{
 "cells": [
  {
   "cell_type": "code",
   "execution_count": 3,
   "id": "1e51d14f-be03-41bb-8665-cddd64faf1bc",
   "metadata": {},
   "outputs": [],
   "source": [
    "import pandas as pd\n",
    "import matplotlib.pyplot as plt\n",
    "from imblearn.under_sampling import RandomUnderSampler, TomekLinks\n",
    "from sklearn.model_selection import train_test_split\n",
    "from sklearn.metrics import accuracy_score, classification_report, confusion_matrix\n",
    "import seaborn as sns\n",
    "from sklearn.naive_bayes import GaussianNB"
   ]
  },
  {
   "cell_type": "markdown",
   "id": "dae3e18f-c12d-450e-89af-d902320b5824",
   "metadata": {},
   "source": [
    "# Importando o dataset"
   ]
  },
  {
   "cell_type": "code",
   "execution_count": 4,
   "id": "83fdd8ea-98e4-4222-bb97-550b18829abd",
   "metadata": {},
   "outputs": [],
   "source": [
    "dados_heart = pd.read_csv('./dataset/heart.csv',\n",
    "            sep=',')"
   ]
  },
  {
   "cell_type": "markdown",
   "id": "2a6a27c7-78ba-495b-b156-155c3e4aac9e",
   "metadata": {},
   "source": [
    "# Informações do dataset"
   ]
  },
  {
   "cell_type": "code",
   "execution_count": 5,
   "id": "864e25b1-5824-40da-8a9d-72091c1cd5a4",
   "metadata": {},
   "outputs": [
    {
     "name": "stdout",
     "output_type": "stream",
     "text": [
      "<class 'pandas.core.frame.DataFrame'>\n",
      "RangeIndex: 342 entries, 0 to 341\n",
      "Data columns (total 14 columns):\n",
      " #   Column    Non-Null Count  Dtype  \n",
      "---  ------    --------------  -----  \n",
      " 0   age       342 non-null    int64  \n",
      " 1   sex       342 non-null    int64  \n",
      " 2   cp        342 non-null    int64  \n",
      " 3   trtbps    342 non-null    int64  \n",
      " 4   chol      342 non-null    int64  \n",
      " 5   fbs       342 non-null    int64  \n",
      " 6   restecg   342 non-null    int64  \n",
      " 7   thalachh  342 non-null    int64  \n",
      " 8   exng      342 non-null    int64  \n",
      " 9   oldpeak   342 non-null    float64\n",
      " 10  slp       342 non-null    int64  \n",
      " 11  caa       342 non-null    int64  \n",
      " 12  thall     342 non-null    int64  \n",
      " 13  output    342 non-null    int64  \n",
      "dtypes: float64(1), int64(13)\n",
      "memory usage: 37.5 KB\n"
     ]
    }
   ],
   "source": [
    "dados_heart.info()"
   ]
  },
  {
   "cell_type": "markdown",
   "id": "6a1f5ad4-b745-4603-9fbc-5e8812da069f",
   "metadata": {},
   "source": [
    "# Estatistica do dataset"
   ]
  },
  {
   "cell_type": "code",
   "execution_count": 6,
   "id": "ac68a6f3-47d0-4b3d-81ee-3a39b8f8a1c3",
   "metadata": {},
   "outputs": [
    {
     "data": {
      "text/html": [
       "<div>\n",
       "<style scoped>\n",
       "    .dataframe tbody tr th:only-of-type {\n",
       "        vertical-align: middle;\n",
       "    }\n",
       "\n",
       "    .dataframe tbody tr th {\n",
       "        vertical-align: top;\n",
       "    }\n",
       "\n",
       "    .dataframe thead th {\n",
       "        text-align: right;\n",
       "    }\n",
       "</style>\n",
       "<table border=\"1\" class=\"dataframe\">\n",
       "  <thead>\n",
       "    <tr style=\"text-align: right;\">\n",
       "      <th></th>\n",
       "      <th>age</th>\n",
       "      <th>sex</th>\n",
       "      <th>cp</th>\n",
       "      <th>trtbps</th>\n",
       "      <th>chol</th>\n",
       "      <th>fbs</th>\n",
       "      <th>restecg</th>\n",
       "      <th>thalachh</th>\n",
       "      <th>exng</th>\n",
       "      <th>oldpeak</th>\n",
       "      <th>slp</th>\n",
       "      <th>caa</th>\n",
       "      <th>thall</th>\n",
       "      <th>output</th>\n",
       "    </tr>\n",
       "  </thead>\n",
       "  <tbody>\n",
       "    <tr>\n",
       "      <th>count</th>\n",
       "      <td>342.000000</td>\n",
       "      <td>342.000000</td>\n",
       "      <td>342.000000</td>\n",
       "      <td>342.000000</td>\n",
       "      <td>342.000000</td>\n",
       "      <td>342.000000</td>\n",
       "      <td>342.000000</td>\n",
       "      <td>342.000000</td>\n",
       "      <td>342.000000</td>\n",
       "      <td>342.000000</td>\n",
       "      <td>342.000000</td>\n",
       "      <td>342.000000</td>\n",
       "      <td>342.000000</td>\n",
       "      <td>342.000000</td>\n",
       "    </tr>\n",
       "    <tr>\n",
       "      <th>mean</th>\n",
       "      <td>54.380117</td>\n",
       "      <td>0.695906</td>\n",
       "      <td>0.926901</td>\n",
       "      <td>132.157895</td>\n",
       "      <td>245.880117</td>\n",
       "      <td>0.154971</td>\n",
       "      <td>0.532164</td>\n",
       "      <td>148.643275</td>\n",
       "      <td>0.350877</td>\n",
       "      <td>1.059649</td>\n",
       "      <td>1.383041</td>\n",
       "      <td>0.730994</td>\n",
       "      <td>2.347953</td>\n",
       "      <td>0.500000</td>\n",
       "    </tr>\n",
       "    <tr>\n",
       "      <th>std</th>\n",
       "      <td>9.094258</td>\n",
       "      <td>0.460696</td>\n",
       "      <td>1.031999</td>\n",
       "      <td>17.758520</td>\n",
       "      <td>51.725706</td>\n",
       "      <td>0.362407</td>\n",
       "      <td>0.528224</td>\n",
       "      <td>23.059561</td>\n",
       "      <td>0.477944</td>\n",
       "      <td>1.155712</td>\n",
       "      <td>0.614635</td>\n",
       "      <td>1.017806</td>\n",
       "      <td>0.625915</td>\n",
       "      <td>0.500733</td>\n",
       "    </tr>\n",
       "    <tr>\n",
       "      <th>min</th>\n",
       "      <td>29.000000</td>\n",
       "      <td>0.000000</td>\n",
       "      <td>0.000000</td>\n",
       "      <td>94.000000</td>\n",
       "      <td>126.000000</td>\n",
       "      <td>0.000000</td>\n",
       "      <td>0.000000</td>\n",
       "      <td>71.000000</td>\n",
       "      <td>0.000000</td>\n",
       "      <td>0.000000</td>\n",
       "      <td>0.000000</td>\n",
       "      <td>0.000000</td>\n",
       "      <td>0.000000</td>\n",
       "      <td>0.000000</td>\n",
       "    </tr>\n",
       "    <tr>\n",
       "      <th>25%</th>\n",
       "      <td>48.000000</td>\n",
       "      <td>0.000000</td>\n",
       "      <td>0.000000</td>\n",
       "      <td>120.000000</td>\n",
       "      <td>209.250000</td>\n",
       "      <td>0.000000</td>\n",
       "      <td>0.000000</td>\n",
       "      <td>132.000000</td>\n",
       "      <td>0.000000</td>\n",
       "      <td>0.000000</td>\n",
       "      <td>1.000000</td>\n",
       "      <td>0.000000</td>\n",
       "      <td>2.000000</td>\n",
       "      <td>0.000000</td>\n",
       "    </tr>\n",
       "    <tr>\n",
       "      <th>50%</th>\n",
       "      <td>55.000000</td>\n",
       "      <td>1.000000</td>\n",
       "      <td>1.000000</td>\n",
       "      <td>130.000000</td>\n",
       "      <td>240.500000</td>\n",
       "      <td>0.000000</td>\n",
       "      <td>1.000000</td>\n",
       "      <td>152.000000</td>\n",
       "      <td>0.000000</td>\n",
       "      <td>0.800000</td>\n",
       "      <td>1.000000</td>\n",
       "      <td>0.000000</td>\n",
       "      <td>2.000000</td>\n",
       "      <td>0.500000</td>\n",
       "    </tr>\n",
       "    <tr>\n",
       "      <th>75%</th>\n",
       "      <td>61.000000</td>\n",
       "      <td>1.000000</td>\n",
       "      <td>2.000000</td>\n",
       "      <td>140.000000</td>\n",
       "      <td>275.000000</td>\n",
       "      <td>0.000000</td>\n",
       "      <td>1.000000</td>\n",
       "      <td>164.750000</td>\n",
       "      <td>1.000000</td>\n",
       "      <td>1.600000</td>\n",
       "      <td>2.000000</td>\n",
       "      <td>1.000000</td>\n",
       "      <td>3.000000</td>\n",
       "      <td>1.000000</td>\n",
       "    </tr>\n",
       "    <tr>\n",
       "      <th>max</th>\n",
       "      <td>77.000000</td>\n",
       "      <td>1.000000</td>\n",
       "      <td>3.000000</td>\n",
       "      <td>200.000000</td>\n",
       "      <td>564.000000</td>\n",
       "      <td>1.000000</td>\n",
       "      <td>2.000000</td>\n",
       "      <td>202.000000</td>\n",
       "      <td>1.000000</td>\n",
       "      <td>6.200000</td>\n",
       "      <td>2.000000</td>\n",
       "      <td>4.000000</td>\n",
       "      <td>3.000000</td>\n",
       "      <td>1.000000</td>\n",
       "    </tr>\n",
       "  </tbody>\n",
       "</table>\n",
       "</div>"
      ],
      "text/plain": [
       "              age         sex          cp      trtbps        chol         fbs  \\\n",
       "count  342.000000  342.000000  342.000000  342.000000  342.000000  342.000000   \n",
       "mean    54.380117    0.695906    0.926901  132.157895  245.880117    0.154971   \n",
       "std      9.094258    0.460696    1.031999   17.758520   51.725706    0.362407   \n",
       "min     29.000000    0.000000    0.000000   94.000000  126.000000    0.000000   \n",
       "25%     48.000000    0.000000    0.000000  120.000000  209.250000    0.000000   \n",
       "50%     55.000000    1.000000    1.000000  130.000000  240.500000    0.000000   \n",
       "75%     61.000000    1.000000    2.000000  140.000000  275.000000    0.000000   \n",
       "max     77.000000    1.000000    3.000000  200.000000  564.000000    1.000000   \n",
       "\n",
       "          restecg    thalachh        exng     oldpeak         slp         caa  \\\n",
       "count  342.000000  342.000000  342.000000  342.000000  342.000000  342.000000   \n",
       "mean     0.532164  148.643275    0.350877    1.059649    1.383041    0.730994   \n",
       "std      0.528224   23.059561    0.477944    1.155712    0.614635    1.017806   \n",
       "min      0.000000   71.000000    0.000000    0.000000    0.000000    0.000000   \n",
       "25%      0.000000  132.000000    0.000000    0.000000    1.000000    0.000000   \n",
       "50%      1.000000  152.000000    0.000000    0.800000    1.000000    0.000000   \n",
       "75%      1.000000  164.750000    1.000000    1.600000    2.000000    1.000000   \n",
       "max      2.000000  202.000000    1.000000    6.200000    2.000000    4.000000   \n",
       "\n",
       "            thall      output  \n",
       "count  342.000000  342.000000  \n",
       "mean     2.347953    0.500000  \n",
       "std      0.625915    0.500733  \n",
       "min      0.000000    0.000000  \n",
       "25%      2.000000    0.000000  \n",
       "50%      2.000000    0.500000  \n",
       "75%      3.000000    1.000000  \n",
       "max      3.000000    1.000000  "
      ]
     },
     "execution_count": 6,
     "metadata": {},
     "output_type": "execute_result"
    }
   ],
   "source": [
    "dados_heart.describe()"
   ]
  },
  {
   "cell_type": "code",
   "execution_count": 7,
   "id": "40a02f1f-c3f3-456e-b530-7084539e95d2",
   "metadata": {},
   "outputs": [],
   "source": [
    "# Quantos registro igual a 0 na coluna THALL"
   ]
  },
  {
   "cell_type": "code",
   "execution_count": 8,
   "id": "c4aec469-0e40-4110-a252-3315d4597541",
   "metadata": {},
   "outputs": [
    {
     "name": "stdout",
     "output_type": "stream",
     "text": [
      "3\n"
     ]
    }
   ],
   "source": [
    "dados_thall_zero = dados_heart[dados_heart['thall'] == 0]\n",
    "print(len(dados_thall_zero))"
   ]
  },
  {
   "cell_type": "code",
   "execution_count": 9,
   "id": "a99f1b24-1edc-4936-b769-711e2559f938",
   "metadata": {},
   "outputs": [],
   "source": [
    "#exclui os dados \n",
    "dados_heart = dados_heart[dados_heart['thall'] != 0]"
   ]
  },
  {
   "cell_type": "code",
   "execution_count": 10,
   "id": "0b2120fb-c752-4564-9fb1-bf56f1e7d95f",
   "metadata": {},
   "outputs": [
    {
     "data": {
      "text/html": [
       "<div>\n",
       "<style scoped>\n",
       "    .dataframe tbody tr th:only-of-type {\n",
       "        vertical-align: middle;\n",
       "    }\n",
       "\n",
       "    .dataframe tbody tr th {\n",
       "        vertical-align: top;\n",
       "    }\n",
       "\n",
       "    .dataframe thead th {\n",
       "        text-align: right;\n",
       "    }\n",
       "</style>\n",
       "<table border=\"1\" class=\"dataframe\">\n",
       "  <thead>\n",
       "    <tr style=\"text-align: right;\">\n",
       "      <th></th>\n",
       "      <th>age</th>\n",
       "      <th>sex</th>\n",
       "      <th>cp</th>\n",
       "      <th>trtbps</th>\n",
       "      <th>chol</th>\n",
       "      <th>fbs</th>\n",
       "      <th>restecg</th>\n",
       "      <th>thalachh</th>\n",
       "      <th>exng</th>\n",
       "      <th>oldpeak</th>\n",
       "      <th>slp</th>\n",
       "      <th>caa</th>\n",
       "      <th>thall</th>\n",
       "      <th>output</th>\n",
       "    </tr>\n",
       "  </thead>\n",
       "  <tbody>\n",
       "    <tr>\n",
       "      <th>0</th>\n",
       "      <td>63</td>\n",
       "      <td>1</td>\n",
       "      <td>3</td>\n",
       "      <td>145</td>\n",
       "      <td>233</td>\n",
       "      <td>1</td>\n",
       "      <td>0</td>\n",
       "      <td>150</td>\n",
       "      <td>0</td>\n",
       "      <td>2.3</td>\n",
       "      <td>0</td>\n",
       "      <td>0</td>\n",
       "      <td>1</td>\n",
       "      <td>1</td>\n",
       "    </tr>\n",
       "    <tr>\n",
       "      <th>1</th>\n",
       "      <td>37</td>\n",
       "      <td>1</td>\n",
       "      <td>2</td>\n",
       "      <td>130</td>\n",
       "      <td>250</td>\n",
       "      <td>0</td>\n",
       "      <td>1</td>\n",
       "      <td>187</td>\n",
       "      <td>0</td>\n",
       "      <td>3.5</td>\n",
       "      <td>0</td>\n",
       "      <td>0</td>\n",
       "      <td>2</td>\n",
       "      <td>1</td>\n",
       "    </tr>\n",
       "    <tr>\n",
       "      <th>2</th>\n",
       "      <td>41</td>\n",
       "      <td>0</td>\n",
       "      <td>1</td>\n",
       "      <td>130</td>\n",
       "      <td>204</td>\n",
       "      <td>0</td>\n",
       "      <td>0</td>\n",
       "      <td>172</td>\n",
       "      <td>0</td>\n",
       "      <td>1.4</td>\n",
       "      <td>2</td>\n",
       "      <td>0</td>\n",
       "      <td>2</td>\n",
       "      <td>1</td>\n",
       "    </tr>\n",
       "    <tr>\n",
       "      <th>3</th>\n",
       "      <td>56</td>\n",
       "      <td>1</td>\n",
       "      <td>1</td>\n",
       "      <td>120</td>\n",
       "      <td>236</td>\n",
       "      <td>0</td>\n",
       "      <td>1</td>\n",
       "      <td>178</td>\n",
       "      <td>0</td>\n",
       "      <td>0.8</td>\n",
       "      <td>2</td>\n",
       "      <td>0</td>\n",
       "      <td>2</td>\n",
       "      <td>1</td>\n",
       "    </tr>\n",
       "    <tr>\n",
       "      <th>4</th>\n",
       "      <td>57</td>\n",
       "      <td>0</td>\n",
       "      <td>0</td>\n",
       "      <td>120</td>\n",
       "      <td>354</td>\n",
       "      <td>0</td>\n",
       "      <td>1</td>\n",
       "      <td>163</td>\n",
       "      <td>1</td>\n",
       "      <td>0.6</td>\n",
       "      <td>2</td>\n",
       "      <td>0</td>\n",
       "      <td>2</td>\n",
       "      <td>1</td>\n",
       "    </tr>\n",
       "  </tbody>\n",
       "</table>\n",
       "</div>"
      ],
      "text/plain": [
       "   age  sex  cp  trtbps  chol  fbs  restecg  thalachh  exng  oldpeak  slp  \\\n",
       "0   63    1   3     145   233    1        0       150     0      2.3    0   \n",
       "1   37    1   2     130   250    0        1       187     0      3.5    0   \n",
       "2   41    0   1     130   204    0        0       172     0      1.4    2   \n",
       "3   56    1   1     120   236    0        1       178     0      0.8    2   \n",
       "4   57    0   0     120   354    0        1       163     1      0.6    2   \n",
       "\n",
       "   caa  thall  output  \n",
       "0    0      1       1  \n",
       "1    0      2       1  \n",
       "2    0      2       1  \n",
       "3    0      2       1  \n",
       "4    0      2       1  "
      ]
     },
     "execution_count": 10,
     "metadata": {},
     "output_type": "execute_result"
    }
   ],
   "source": [
    "dados_heart.head()"
   ]
  },
  {
   "cell_type": "markdown",
   "id": "f6d297e8-f31c-4561-8e45-6fc7cf6dd6d5",
   "metadata": {},
   "source": [
    "# Registros duplicados"
   ]
  },
  {
   "cell_type": "code",
   "execution_count": 11,
   "id": "8c45c821-85ad-44e0-bd71-cba9fb781d76",
   "metadata": {},
   "outputs": [
    {
     "data": {
      "text/plain": [
       "age         39\n",
       "sex         39\n",
       "cp          39\n",
       "trtbps      39\n",
       "chol        39\n",
       "fbs         39\n",
       "restecg     39\n",
       "thalachh    39\n",
       "exng        39\n",
       "oldpeak     39\n",
       "slp         39\n",
       "caa         39\n",
       "thall       39\n",
       "output      39\n",
       "dtype: int64"
      ]
     },
     "execution_count": 11,
     "metadata": {},
     "output_type": "execute_result"
    }
   ],
   "source": [
    "dados_heart[dados_heart.duplicated()].count()"
   ]
  },
  {
   "cell_type": "code",
   "execution_count": 12,
   "id": "ab0bd84d-6568-47bc-a86a-84fbec666553",
   "metadata": {},
   "outputs": [],
   "source": [
    "#REMOVE LINHAS DUPLICADAS\n",
    "dados_heart.drop_duplicates(inplace=True)"
   ]
  },
  {
   "cell_type": "code",
   "execution_count": 13,
   "id": "b31eb53c-5cd0-4ef1-8972-8f259f7a5fb4",
   "metadata": {},
   "outputs": [
    {
     "data": {
      "text/plain": [
       "age         0\n",
       "sex         0\n",
       "cp          0\n",
       "trtbps      0\n",
       "chol        0\n",
       "fbs         0\n",
       "restecg     0\n",
       "thalachh    0\n",
       "exng        0\n",
       "oldpeak     0\n",
       "slp         0\n",
       "caa         0\n",
       "thall       0\n",
       "output      0\n",
       "dtype: int64"
      ]
     },
     "execution_count": 13,
     "metadata": {},
     "output_type": "execute_result"
    }
   ],
   "source": [
    "dados_heart[dados_heart.duplicated()].count()"
   ]
  },
  {
   "cell_type": "code",
   "execution_count": 14,
   "id": "ff7b1e4a-7e22-4b6b-b1d7-471c83740328",
   "metadata": {},
   "outputs": [
    {
     "name": "stdout",
     "output_type": "stream",
     "text": [
      "0\n"
     ]
    }
   ],
   "source": [
    "dados_thall_zero = dados_heart[dados_heart['thall'] == 0]\n",
    "print(len(dados_thall_zero))"
   ]
  },
  {
   "cell_type": "code",
   "execution_count": 15,
   "id": "3f8687da-4160-4405-922d-c8d45ee79ffe",
   "metadata": {},
   "outputs": [
    {
     "data": {
      "text/plain": [
       "output\n",
       "0    137\n",
       "1    163\n",
       "Name: output, dtype: int64"
      ]
     },
     "execution_count": 15,
     "metadata": {},
     "output_type": "execute_result"
    }
   ],
   "source": [
    "dados_heart.groupby(['output'])['output'].count()\n"
   ]
  },
  {
   "cell_type": "markdown",
   "id": "cc0101d8-2837-4538-b05e-0b363ddc40bd",
   "metadata": {},
   "source": [
    "# Balanceamento dos dados"
   ]
  },
  {
   "cell_type": "code",
   "execution_count": 16,
   "id": "df299a9e-6c79-46d6-b990-fd7b072d3552",
   "metadata": {},
   "outputs": [],
   "source": [
    "x_dados = dados_heart.drop('output', axis=1).values #todos atributos menos a variavel label\n",
    "y_dados = dados_heart['output'].values # os labels diabeticos ou n diabeticos"
   ]
  },
  {
   "cell_type": "code",
   "execution_count": 17,
   "id": "ee6e90d5-ed10-4ceb-9cff-d37c9fae5e67",
   "metadata": {},
   "outputs": [],
   "source": [
    "def balanceamento_dados(x_dados, y_dados):\n",
    "    undersampler = RandomUnderSampler(random_state=42)\n",
    "    x_under, y_under = undersampler.fit_resample(x_dados, y_dados)\n",
    "    tl = TomekLinks(sampling_strategy='all')\n",
    "    x_under, y_under = tl.fit_resample(x_under, y_under)\n",
    "    return x_under, y_under"
   ]
  },
  {
   "cell_type": "code",
   "execution_count": 18,
   "id": "90fe7d67-f655-4a76-911e-d1f77bcc7e42",
   "metadata": {},
   "outputs": [],
   "source": [
    "# aplicando a técnica de balenceamento de dados\n",
    "\n",
    "x_dados_balanceados, y_dados_balanceados = balanceamento_dados(x_dados, y_dados)"
   ]
  },
  {
   "cell_type": "code",
   "execution_count": 19,
   "id": "1bad7a28-20d5-40cc-a54d-14fc3a285388",
   "metadata": {},
   "outputs": [
    {
     "name": "stdout",
     "output_type": "stream",
     "text": [
      "214 214\n"
     ]
    }
   ],
   "source": [
    "print(len(x_dados_balanceados), len(y_dados_balanceados))"
   ]
  },
  {
   "cell_type": "code",
   "execution_count": 20,
   "id": "08f3ef3b-9e77-4856-bec5-022858e7c90a",
   "metadata": {},
   "outputs": [
    {
     "name": "stdout",
     "output_type": "stream",
     "text": [
      "Counter({0: 107, 1: 107})\n"
     ]
    }
   ],
   "source": [
    "import collections \n",
    "print(collections.Counter(y_dados_balanceados))"
   ]
  },
  {
   "cell_type": "code",
   "execution_count": 21,
   "id": "cb6afe69-61ce-4f63-bbdc-a952f161255f",
   "metadata": {},
   "outputs": [],
   "source": [
    "# Separando dados para testes e treino"
   ]
  },
  {
   "cell_type": "code",
   "execution_count": 22,
   "id": "aa8f655a-60d6-4627-b15e-c78a9b1d9b6a",
   "metadata": {},
   "outputs": [],
   "source": [
    "def separa_treino_teste(x_dados_balanceados, y_dados_balanceados):\n",
    "    x_train, x_test, y_train, y_test = train_test_split(x_dados_balanceados,y_dados_balanceados, random_state=42, test_size=0.2)\n",
    "    return x_train, x_test, y_train, y_test\n",
    "\n",
    "x_train, x_test, y_train, y_test = separa_treino_teste(x_dados_balanceados, y_dados_balanceados)"
   ]
  },
  {
   "cell_type": "code",
   "execution_count": 23,
   "id": "3b73e7c9-41f6-4e03-9980-5bcdb0cbf3b1",
   "metadata": {},
   "outputs": [],
   "source": [
    "from sklearn.ensemble import RandomForestClassifier\n",
    "\n",
    "#criar o classificador random forest\n",
    "\n",
    "classifier = RandomForestClassifier(random_state=42)\n",
    "\n",
    "#cria modelo de classificação\n",
    "modelo = classifier.fit(x_train, y_train)\n",
    "\n",
    "# Realiza predições\n",
    "y_pred = modelo.predict(x_test)"
   ]
  },
  {
   "cell_type": "code",
   "execution_count": 24,
   "id": "347eede2-e385-4445-bf68-d431dad26292",
   "metadata": {},
   "outputs": [
    {
     "data": {
      "text/html": [
       "<div>\n",
       "<style scoped>\n",
       "    .dataframe tbody tr th:only-of-type {\n",
       "        vertical-align: middle;\n",
       "    }\n",
       "\n",
       "    .dataframe tbody tr th {\n",
       "        vertical-align: top;\n",
       "    }\n",
       "\n",
       "    .dataframe thead th {\n",
       "        text-align: right;\n",
       "    }\n",
       "</style>\n",
       "<table border=\"1\" class=\"dataframe\">\n",
       "  <thead>\n",
       "    <tr style=\"text-align: right;\">\n",
       "      <th></th>\n",
       "      <th>importancia</th>\n",
       "    </tr>\n",
       "  </thead>\n",
       "  <tbody>\n",
       "    <tr>\n",
       "      <th>thalachh</th>\n",
       "      <td>0.172376</td>\n",
       "    </tr>\n",
       "    <tr>\n",
       "      <th>caa</th>\n",
       "      <td>0.139728</td>\n",
       "    </tr>\n",
       "    <tr>\n",
       "      <th>cp</th>\n",
       "      <td>0.112541</td>\n",
       "    </tr>\n",
       "    <tr>\n",
       "      <th>thall</th>\n",
       "      <td>0.102451</td>\n",
       "    </tr>\n",
       "    <tr>\n",
       "      <th>age</th>\n",
       "      <td>0.096566</td>\n",
       "    </tr>\n",
       "    <tr>\n",
       "      <th>oldpeak</th>\n",
       "      <td>0.092364</td>\n",
       "    </tr>\n",
       "    <tr>\n",
       "      <th>slp</th>\n",
       "      <td>0.083797</td>\n",
       "    </tr>\n",
       "    <tr>\n",
       "      <th>chol</th>\n",
       "      <td>0.059800</td>\n",
       "    </tr>\n",
       "    <tr>\n",
       "      <th>trtbps</th>\n",
       "      <td>0.055220</td>\n",
       "    </tr>\n",
       "    <tr>\n",
       "      <th>exng</th>\n",
       "      <td>0.035672</td>\n",
       "    </tr>\n",
       "    <tr>\n",
       "      <th>restecg</th>\n",
       "      <td>0.022336</td>\n",
       "    </tr>\n",
       "    <tr>\n",
       "      <th>sex</th>\n",
       "      <td>0.017103</td>\n",
       "    </tr>\n",
       "    <tr>\n",
       "      <th>fbs</th>\n",
       "      <td>0.010044</td>\n",
       "    </tr>\n",
       "  </tbody>\n",
       "</table>\n",
       "</div>"
      ],
      "text/plain": [
       "          importancia\n",
       "thalachh     0.172376\n",
       "caa          0.139728\n",
       "cp           0.112541\n",
       "thall        0.102451\n",
       "age          0.096566\n",
       "oldpeak      0.092364\n",
       "slp          0.083797\n",
       "chol         0.059800\n",
       "trtbps       0.055220\n",
       "exng         0.035672\n",
       "restecg      0.022336\n",
       "sex          0.017103\n",
       "fbs          0.010044"
      ]
     },
     "execution_count": 24,
     "metadata": {},
     "output_type": "execute_result"
    }
   ],
   "source": [
    "pd.DataFrame(modelo.feature_importances_, columns=['importancia'],\n",
    "             index= ['age', 'sex', 'cp', 'trtbps', 'chol',\n",
    "                     'fbs', 'restecg', 'thalachh', 'exng', 'oldpeak', 'slp', 'caa', 'thall']).sort_values('importancia', ascending=False)"
   ]
  },
  {
   "cell_type": "code",
   "execution_count": 25,
   "id": "46c1aa72-61f1-4355-a71a-7f52db991792",
   "metadata": {},
   "outputs": [
    {
     "name": "stdout",
     "output_type": "stream",
     "text": [
      "Quantidade de registros selecionados para teste:  43\n",
      "Quantidade de registros selecionados para treinamento: 171\n"
     ]
    }
   ],
   "source": [
    "print(\"Quantidade de registros selecionados para teste: \", len(x_test))\n",
    "print(\"Quantidade de registros selecionados para treinamento:\", len(x_train))\n"
   ]
  },
  {
   "cell_type": "code",
   "execution_count": 26,
   "id": "3ea292f0-753a-4682-a2dd-50203e8dd91d",
   "metadata": {},
   "outputs": [
    {
     "name": "stdout",
     "output_type": "stream",
     "text": [
      "Precisão:  0.7674418604651163\n"
     ]
    }
   ],
   "source": [
    "# Calculando a acuracia do modelo\n",
    "\n",
    "acuracia = accuracy_score(y_test, y_pred)\n",
    "print('Precisão: ', acuracia)\n"
   ]
  },
  {
   "cell_type": "code",
   "execution_count": 27,
   "id": "ad758b73-25b4-4dfe-b5e3-aa49e70c3cfb",
   "metadata": {},
   "outputs": [
    {
     "name": "stderr",
     "output_type": "stream",
     "text": [
      "C:\\Users\\lorai\\AppData\\Local\\Temp\\ipykernel_26356\\4048751744.py:6: UserWarning: Ignoring `palette` because no `hue` variable has been assigned.\n",
      "  scatter_plot = sns.scatterplot(data=dados_heart,\n",
      "No artists with labels found to put in legend.  Note that artists whose label start with an underscore are ignored when legend() is called with no argument.\n"
     ]
    },
    {
     "data": {
      "image/png": "[encoded data removed]",
      "text/plain": [
       "<Figure size 1000x600 with 1 Axes>"
      ]
     },
     "metadata": {},
     "output_type": "display_data"
    }
   ],
   "source": [
    "# Criando Scatter Plot\n",
    "sns.set(style='darkgrid')    # Ajuste opcional para um fundo branco com linhas de grade\n",
    "plt.figure(figsize=(10, 6))  # Ajuste opcional para o tamanho do gráfico\n",
    " \n",
    "# Scatter Plot com legenda na parte superior direita e cores personalizadas\n",
    "scatter_plot = sns.scatterplot(data=dados_heart, \n",
    "                               x='chol', #colesterol \n",
    "                               y='thalachh', \n",
    "                               #hue='nome_cluster', \n",
    "                               palette={'Risco Baixo': 'green', \n",
    "                                        'Risco Moderado': 'orange', \n",
    "                                        'Risco Alto': 'red'})\n",
    " \n",
    "# Adicionando legenda na parte superior direita com fundo branco\n",
    "scatter_plot.legend(loc='center right', facecolor='white')\n",
    " \n",
    "# Nomeando o gráfico\n",
    "plt.title('Sei la')\n",
    " \n",
    "# Exibindo o gráfico\n",
    "plt.show()"
   ]
  },
  {
   "cell_type": "markdown",
   "id": "ccccc863-c6fb-4e4e-8d81-b30b4e29d28d",
   "metadata": {},
   "source": [
    "# Matriz de confusão"
   ]
  },
  {
   "cell_type": "code",
   "execution_count": 28,
   "id": "b57965ac-a355-478a-8238-afe9582a6822",
   "metadata": {},
   "outputs": [],
   "source": [
    "cm = confusion_matrix(y_test, y_pred)"
   ]
  },
  {
   "cell_type": "code",
   "execution_count": 29,
   "id": "47b3cb4f-c42b-4e90-bcf8-bc4050554615",
   "metadata": {},
   "outputs": [
    {
     "data": {
      "image/png": "[encoded data removed]",
      "text/plain": [
       "<Figure size 600x300 with 2 Axes>"
      ]
     },
     "metadata": {},
     "output_type": "display_data"
    }
   ],
   "source": [
    "# Visualizando matriz de confusão\n",
    "labels=['Menos chances de ter ataque cardiaco', 'Mais chances de ter ataque cardiaco']\n",
    "plt.figure(figsize=(6,3))\n",
    "sns.heatmap(data=cm,annot=True,cmap='Blues', xticklabels=labels,yticklabels=labels)\n",
    "plt.xlabel('Valor Previsto')\n",
    "plt.ylabel('Valor Real')\n",
    "plt.title('Matriz de confusão')\n",
    "plt.show()"
   ]
  },
  {
   "cell_type": "code",
   "execution_count": 30,
   "id": "a1a951cb-e959-4c47-8397-7aab1524ebc4",
   "metadata": {},
   "outputs": [
    {
     "name": "stdout",
     "output_type": "stream",
     "text": [
      "              precision    recall  f1-score   support\n",
      "\n",
      "           0       0.78      0.70      0.74        20\n",
      "           1       0.76      0.83      0.79        23\n",
      "\n",
      "    accuracy                           0.77        43\n",
      "   macro avg       0.77      0.76      0.76        43\n",
      "weighted avg       0.77      0.77      0.77        43\n",
      "\n"
     ]
    }
   ],
   "source": [
    "# Calculando metricas de avaliação de modelo\n",
    "\n",
    "# Gerar relatorio de classificação\n",
    "report = classification_report(y_test,y_pred)\n",
    "\n",
    "#IMprimir\n",
    "print(report)"
   ]
  },
  {
   "cell_type": "code",
   "execution_count": 31,
   "id": "d68ee610-affd-4429-9d51-de6194ccb946",
   "metadata": {},
   "outputs": [
    {
     "data": {
      "text/html": [
       "<div>\n",
       "<style scoped>\n",
       "    .dataframe tbody tr th:only-of-type {\n",
       "        vertical-align: middle;\n",
       "    }\n",
       "\n",
       "    .dataframe tbody tr th {\n",
       "        vertical-align: top;\n",
       "    }\n",
       "\n",
       "    .dataframe thead th {\n",
       "        text-align: right;\n",
       "    }\n",
       "</style>\n",
       "<table border=\"1\" class=\"dataframe\">\n",
       "  <thead>\n",
       "    <tr style=\"text-align: right;\">\n",
       "      <th></th>\n",
       "      <th>output</th>\n",
       "      <th>cp</th>\n",
       "    </tr>\n",
       "  </thead>\n",
       "  <tbody>\n",
       "    <tr>\n",
       "      <th>output</th>\n",
       "      <td>1.00</td>\n",
       "      <td>0.43</td>\n",
       "    </tr>\n",
       "    <tr>\n",
       "      <th>cp</th>\n",
       "      <td>0.43</td>\n",
       "      <td>1.00</td>\n",
       "    </tr>\n",
       "  </tbody>\n",
       "</table>\n",
       "</div>"
      ],
      "text/plain": [
       "        output    cp\n",
       "output    1.00  0.43\n",
       "cp        0.43  1.00"
      ]
     },
     "execution_count": 31,
     "metadata": {},
     "output_type": "execute_result"
    }
   ],
   "source": [
    "colunas = ['output','cp']\n",
    "round(dados_heart[colunas].corr(),2)"
   ]
  },
  {
   "cell_type": "code",
   "execution_count": 32,
   "id": "3671ca1c-313c-46a7-bc2e-be35902cec18",
   "metadata": {},
   "outputs": [
    {
     "data": {
      "text/html": [
       "<div>\n",
       "<style scoped>\n",
       "    .dataframe tbody tr th:only-of-type {\n",
       "        vertical-align: middle;\n",
       "    }\n",
       "\n",
       "    .dataframe tbody tr th {\n",
       "        vertical-align: top;\n",
       "    }\n",
       "\n",
       "    .dataframe thead th {\n",
       "        text-align: right;\n",
       "    }\n",
       "</style>\n",
       "<table border=\"1\" class=\"dataframe\">\n",
       "  <thead>\n",
       "    <tr style=\"text-align: right;\">\n",
       "      <th></th>\n",
       "      <th>age</th>\n",
       "      <th>sex</th>\n",
       "      <th>cp</th>\n",
       "      <th>trtbps</th>\n",
       "      <th>chol</th>\n",
       "      <th>fbs</th>\n",
       "      <th>restecg</th>\n",
       "      <th>thalachh</th>\n",
       "      <th>exng</th>\n",
       "      <th>oldpeak</th>\n",
       "      <th>slp</th>\n",
       "      <th>caa</th>\n",
       "      <th>thall</th>\n",
       "      <th>output</th>\n",
       "    </tr>\n",
       "  </thead>\n",
       "  <tbody>\n",
       "    <tr>\n",
       "      <th>age</th>\n",
       "      <td>1.00</td>\n",
       "      <td>-0.10</td>\n",
       "      <td>-0.06</td>\n",
       "      <td>0.28</td>\n",
       "      <td>0.21</td>\n",
       "      <td>0.12</td>\n",
       "      <td>-0.11</td>\n",
       "      <td>-0.40</td>\n",
       "      <td>0.09</td>\n",
       "      <td>0.21</td>\n",
       "      <td>-0.16</td>\n",
       "      <td>0.30</td>\n",
       "      <td>0.06</td>\n",
       "      <td>-0.22</td>\n",
       "    </tr>\n",
       "    <tr>\n",
       "      <th>sex</th>\n",
       "      <td>-0.10</td>\n",
       "      <td>1.00</td>\n",
       "      <td>-0.05</td>\n",
       "      <td>-0.06</td>\n",
       "      <td>-0.20</td>\n",
       "      <td>0.04</td>\n",
       "      <td>-0.07</td>\n",
       "      <td>-0.05</td>\n",
       "      <td>0.14</td>\n",
       "      <td>0.09</td>\n",
       "      <td>-0.03</td>\n",
       "      <td>0.11</td>\n",
       "      <td>0.21</td>\n",
       "      <td>-0.28</td>\n",
       "    </tr>\n",
       "    <tr>\n",
       "      <th>cp</th>\n",
       "      <td>-0.06</td>\n",
       "      <td>-0.05</td>\n",
       "      <td>1.00</td>\n",
       "      <td>0.05</td>\n",
       "      <td>-0.07</td>\n",
       "      <td>0.11</td>\n",
       "      <td>0.05</td>\n",
       "      <td>0.30</td>\n",
       "      <td>-0.39</td>\n",
       "      <td>-0.14</td>\n",
       "      <td>0.11</td>\n",
       "      <td>-0.20</td>\n",
       "      <td>-0.17</td>\n",
       "      <td>0.43</td>\n",
       "    </tr>\n",
       "    <tr>\n",
       "      <th>trtbps</th>\n",
       "      <td>0.28</td>\n",
       "      <td>-0.06</td>\n",
       "      <td>0.05</td>\n",
       "      <td>1.00</td>\n",
       "      <td>0.12</td>\n",
       "      <td>0.18</td>\n",
       "      <td>-0.12</td>\n",
       "      <td>-0.05</td>\n",
       "      <td>0.07</td>\n",
       "      <td>0.19</td>\n",
       "      <td>-0.12</td>\n",
       "      <td>0.10</td>\n",
       "      <td>0.06</td>\n",
       "      <td>-0.15</td>\n",
       "    </tr>\n",
       "    <tr>\n",
       "      <th>chol</th>\n",
       "      <td>0.21</td>\n",
       "      <td>-0.20</td>\n",
       "      <td>-0.07</td>\n",
       "      <td>0.12</td>\n",
       "      <td>1.00</td>\n",
       "      <td>0.02</td>\n",
       "      <td>-0.15</td>\n",
       "      <td>-0.01</td>\n",
       "      <td>0.07</td>\n",
       "      <td>0.05</td>\n",
       "      <td>0.00</td>\n",
       "      <td>0.08</td>\n",
       "      <td>0.08</td>\n",
       "      <td>-0.08</td>\n",
       "    </tr>\n",
       "    <tr>\n",
       "      <th>fbs</th>\n",
       "      <td>0.12</td>\n",
       "      <td>0.04</td>\n",
       "      <td>0.11</td>\n",
       "      <td>0.18</td>\n",
       "      <td>0.02</td>\n",
       "      <td>1.00</td>\n",
       "      <td>-0.09</td>\n",
       "      <td>-0.01</td>\n",
       "      <td>0.01</td>\n",
       "      <td>0.00</td>\n",
       "      <td>-0.05</td>\n",
       "      <td>0.15</td>\n",
       "      <td>-0.01</td>\n",
       "      <td>-0.02</td>\n",
       "    </tr>\n",
       "    <tr>\n",
       "      <th>restecg</th>\n",
       "      <td>-0.11</td>\n",
       "      <td>-0.07</td>\n",
       "      <td>0.05</td>\n",
       "      <td>-0.12</td>\n",
       "      <td>-0.15</td>\n",
       "      <td>-0.09</td>\n",
       "      <td>1.00</td>\n",
       "      <td>0.04</td>\n",
       "      <td>-0.08</td>\n",
       "      <td>-0.06</td>\n",
       "      <td>0.10</td>\n",
       "      <td>-0.08</td>\n",
       "      <td>-0.01</td>\n",
       "      <td>0.14</td>\n",
       "    </tr>\n",
       "    <tr>\n",
       "      <th>thalachh</th>\n",
       "      <td>-0.40</td>\n",
       "      <td>-0.05</td>\n",
       "      <td>0.30</td>\n",
       "      <td>-0.05</td>\n",
       "      <td>-0.01</td>\n",
       "      <td>-0.01</td>\n",
       "      <td>0.04</td>\n",
       "      <td>1.00</td>\n",
       "      <td>-0.39</td>\n",
       "      <td>-0.35</td>\n",
       "      <td>0.39</td>\n",
       "      <td>-0.23</td>\n",
       "      <td>-0.12</td>\n",
       "      <td>0.43</td>\n",
       "    </tr>\n",
       "    <tr>\n",
       "      <th>exng</th>\n",
       "      <td>0.09</td>\n",
       "      <td>0.14</td>\n",
       "      <td>-0.39</td>\n",
       "      <td>0.07</td>\n",
       "      <td>0.07</td>\n",
       "      <td>0.01</td>\n",
       "      <td>-0.08</td>\n",
       "      <td>-0.39</td>\n",
       "      <td>1.00</td>\n",
       "      <td>0.29</td>\n",
       "      <td>-0.25</td>\n",
       "      <td>0.13</td>\n",
       "      <td>0.23</td>\n",
       "      <td>-0.43</td>\n",
       "    </tr>\n",
       "    <tr>\n",
       "      <th>oldpeak</th>\n",
       "      <td>0.21</td>\n",
       "      <td>0.09</td>\n",
       "      <td>-0.14</td>\n",
       "      <td>0.19</td>\n",
       "      <td>0.05</td>\n",
       "      <td>0.00</td>\n",
       "      <td>-0.06</td>\n",
       "      <td>-0.35</td>\n",
       "      <td>0.29</td>\n",
       "      <td>1.00</td>\n",
       "      <td>-0.58</td>\n",
       "      <td>0.24</td>\n",
       "      <td>0.21</td>\n",
       "      <td>-0.43</td>\n",
       "    </tr>\n",
       "    <tr>\n",
       "      <th>slp</th>\n",
       "      <td>-0.16</td>\n",
       "      <td>-0.03</td>\n",
       "      <td>0.11</td>\n",
       "      <td>-0.12</td>\n",
       "      <td>0.00</td>\n",
       "      <td>-0.05</td>\n",
       "      <td>0.10</td>\n",
       "      <td>0.39</td>\n",
       "      <td>-0.25</td>\n",
       "      <td>-0.58</td>\n",
       "      <td>1.00</td>\n",
       "      <td>-0.09</td>\n",
       "      <td>-0.10</td>\n",
       "      <td>0.34</td>\n",
       "    </tr>\n",
       "    <tr>\n",
       "      <th>caa</th>\n",
       "      <td>0.30</td>\n",
       "      <td>0.11</td>\n",
       "      <td>-0.20</td>\n",
       "      <td>0.10</td>\n",
       "      <td>0.08</td>\n",
       "      <td>0.15</td>\n",
       "      <td>-0.08</td>\n",
       "      <td>-0.23</td>\n",
       "      <td>0.13</td>\n",
       "      <td>0.24</td>\n",
       "      <td>-0.09</td>\n",
       "      <td>1.00</td>\n",
       "      <td>0.15</td>\n",
       "      <td>-0.41</td>\n",
       "    </tr>\n",
       "    <tr>\n",
       "      <th>thall</th>\n",
       "      <td>0.06</td>\n",
       "      <td>0.21</td>\n",
       "      <td>-0.17</td>\n",
       "      <td>0.06</td>\n",
       "      <td>0.08</td>\n",
       "      <td>-0.01</td>\n",
       "      <td>-0.01</td>\n",
       "      <td>-0.12</td>\n",
       "      <td>0.23</td>\n",
       "      <td>0.21</td>\n",
       "      <td>-0.10</td>\n",
       "      <td>0.15</td>\n",
       "      <td>1.00</td>\n",
       "      <td>-0.36</td>\n",
       "    </tr>\n",
       "    <tr>\n",
       "      <th>output</th>\n",
       "      <td>-0.22</td>\n",
       "      <td>-0.28</td>\n",
       "      <td>0.43</td>\n",
       "      <td>-0.15</td>\n",
       "      <td>-0.08</td>\n",
       "      <td>-0.02</td>\n",
       "      <td>0.14</td>\n",
       "      <td>0.43</td>\n",
       "      <td>-0.43</td>\n",
       "      <td>-0.43</td>\n",
       "      <td>0.34</td>\n",
       "      <td>-0.41</td>\n",
       "      <td>-0.36</td>\n",
       "      <td>1.00</td>\n",
       "    </tr>\n",
       "  </tbody>\n",
       "</table>\n",
       "</div>"
      ],
      "text/plain": [
       "           age   sex    cp  trtbps  chol   fbs  restecg  thalachh  exng  \\\n",
       "age       1.00 -0.10 -0.06    0.28  0.21  0.12    -0.11     -0.40  0.09   \n",
       "sex      -0.10  1.00 -0.05   -0.06 -0.20  0.04    -0.07     -0.05  0.14   \n",
       "cp       -0.06 -0.05  1.00    0.05 -0.07  0.11     0.05      0.30 -0.39   \n",
       "trtbps    0.28 -0.06  0.05    1.00  0.12  0.18    -0.12     -0.05  0.07   \n",
       "chol      0.21 -0.20 -0.07    0.12  1.00  0.02    -0.15     -0.01  0.07   \n",
       "fbs       0.12  0.04  0.11    0.18  0.02  1.00    -0.09     -0.01  0.01   \n",
       "restecg  -0.11 -0.07  0.05   -0.12 -0.15 -0.09     1.00      0.04 -0.08   \n",
       "thalachh -0.40 -0.05  0.30   -0.05 -0.01 -0.01     0.04      1.00 -0.39   \n",
       "exng      0.09  0.14 -0.39    0.07  0.07  0.01    -0.08     -0.39  1.00   \n",
       "oldpeak   0.21  0.09 -0.14    0.19  0.05  0.00    -0.06     -0.35  0.29   \n",
       "slp      -0.16 -0.03  0.11   -0.12  0.00 -0.05     0.10      0.39 -0.25   \n",
       "caa       0.30  0.11 -0.20    0.10  0.08  0.15    -0.08     -0.23  0.13   \n",
       "thall     0.06  0.21 -0.17    0.06  0.08 -0.01    -0.01     -0.12  0.23   \n",
       "output   -0.22 -0.28  0.43   -0.15 -0.08 -0.02     0.14      0.43 -0.43   \n",
       "\n",
       "          oldpeak   slp   caa  thall  output  \n",
       "age          0.21 -0.16  0.30   0.06   -0.22  \n",
       "sex          0.09 -0.03  0.11   0.21   -0.28  \n",
       "cp          -0.14  0.11 -0.20  -0.17    0.43  \n",
       "trtbps       0.19 -0.12  0.10   0.06   -0.15  \n",
       "chol         0.05  0.00  0.08   0.08   -0.08  \n",
       "fbs          0.00 -0.05  0.15  -0.01   -0.02  \n",
       "restecg     -0.06  0.10 -0.08  -0.01    0.14  \n",
       "thalachh    -0.35  0.39 -0.23  -0.12    0.43  \n",
       "exng         0.29 -0.25  0.13   0.23   -0.43  \n",
       "oldpeak      1.00 -0.58  0.24   0.21   -0.43  \n",
       "slp         -0.58  1.00 -0.09  -0.10    0.34  \n",
       "caa          0.24 -0.09  1.00   0.15   -0.41  \n",
       "thall        0.21 -0.10  0.15   1.00   -0.36  \n",
       "output      -0.43  0.34 -0.41  -0.36    1.00  "
      ]
     },
     "execution_count": 32,
     "metadata": {},
     "output_type": "execute_result"
    }
   ],
   "source": [
    "colunas_corr = ['age', 'sex', 'cp', 'trtbps', 'chol', 'fbs', 'restecg', 'thalachh', 'exng', 'oldpeak', 'slp', 'caa', 'thall', 'output']\n",
    "dados_correlacao = round(dados_heart[colunas_corr].corr(),2)\n",
    "dados_correlacao"
   ]
  },
  {
   "cell_type": "code",
   "execution_count": 33,
   "id": "2c9b228b-ae93-49d2-9153-cbd1bb0bc342",
   "metadata": {},
   "outputs": [
    {
     "name": "stdout",
     "output_type": "stream",
     "text": [
      "Previsão para os atributos do paciente: [1]\n"
     ]
    },
    {
     "name": "stderr",
     "output_type": "stream",
     "text": [
      "C:\\VIRTUALENVS\\MODML\\Lib\\site-packages\\sklearn\\base.py:493: UserWarning: X does not have valid feature names, but GaussianNB was fitted with feature names\n",
      "  warnings.warn(\n"
     ]
    }
   ],
   "source": [
    "colunas_modelo = ['age', 'sex', 'cp', 'trtbps', 'chol', 'fbs', 'restecg', 'thalachh', 'exng', 'oldpeak', 'slp', 'caa', 'thall']\n",
    "\n",
    "# Divide os dados em features (x) e target (y)\n",
    "x_dados = dados_heart[colunas_modelo]\n",
    "y_dados = dados_heart['output']\n",
    "\n",
    "# Cria uma instância do modelo Naive Bayes Gaussiano\n",
    "model = GaussianNB()\n",
    "\n",
    "# Treina o modelo\n",
    "model.fit(x_dados, y_dados)\n",
    "\n",
    "# Define os atributos do paciente para previsão\n",
    "atributos_paciente = [[33, 1, 3, 50, 233, 1, 0, 150, 0, 2.3, 0, 0, 1]]\n",
    "\n",
    "# Faz a previsão usando o modelo treinado\n",
    "previsao = model.predict(atributos_paciente)\n",
    "\n",
    "print(\"Previsão para os atributos do paciente:\", previsao)"
   ]
  },
  {
   "cell_type": "code",
   "execution_count": 37,
   "id": "ebeb7d17-a142-49ed-b4dc-8fb3042efd43",
   "metadata": {},
   "outputs": [
    {
     "name": "stdout",
     "output_type": "stream",
     "text": [
      "A média das idades dos pacientes é: 54.43333333333333\n"
     ]
    }
   ],
   "source": [
    "media_idades = dados_heart['age'].mean()\n",
    "\n",
    "# Imprime o resultado\n",
    "print(\"A média das idades dos pacientes é:\", media_idades)"
   ]
  }
 ],
 "metadata": {
  "kernelspec": {
   "display_name": "MODML",
   "language": "python",
   "name": "modml"
  },
  "language_info": {
   "codemirror_mode": {
    "name": "ipython",
    "version": 3
   },
   "file_extension": ".py",
   "mimetype": "text/x-python",
   "name": "python",
   "nbconvert_exporter": "python",
   "pygments_lexer": "ipython3",
   "version": "3.11.3"
  }
 },
 "nbformat": 4,
 "nbformat_minor": 5
}
