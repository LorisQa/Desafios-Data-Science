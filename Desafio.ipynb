{
 "cells": [
  {
   "cell_type": "code",
   "execution_count": 33,
   "id": "b065242a-e9d7-4c00-ac7c-f93d564dee1d",
   "metadata": {},
   "outputs": [],
   "source": [
    "import os\n",
    "import requests\n",
    "import zipfile"
   ]
  },
  {
   "cell_type": "markdown",
   "id": "3b011be1-ac87-4274-8647-499e9424ead0",
   "metadata": {},
   "source": [
    "# Download do arquivo e salvar em pasta"
   ]
  },
  {
   "cell_type": "code",
   "execution_count": 34,
   "id": "da7f0098-86f5-41e2-8209-7a918c7a9919",
   "metadata": {},
   "outputs": [],
   "source": [
    "url = 'https://github.com/ProfLeandroLessa/classroom-datasets/raw/master/CDMF/TP/dados_pesquisa_preferencias.zip'\n",
    " \n",
    "response = requests.get(url)\n",
    "\n",
    "diretorio_destino = 'C:\\dados_pesquisa'\n",
    "if response.status_code == requests.codes.OK:\n",
    "        nome_arquivo_zip = url.split('/')[-1]\n",
    "        caminho_arquivo_zip = os.path.join(diretorio_destino, nome_arquivo_zip)\n"
   ]
  },
  {
   "cell_type": "code",
   "execution_count": 35,
   "id": "a325f807-d32b-4c29-8460-234e67688e0a",
   "metadata": {},
   "outputs": [
    {
     "name": "stdout",
     "output_type": "stream",
     "text": [
      "Donwload finalizado. Salvo em: C:\\dados_pesquisa\\dados_pesquisa_preferencias.zip\n"
     ]
    }
   ],
   "source": [
    "with open(caminho_arquivo_zip, 'wb') as arquivo:\n",
    "            arquivo.write(response.content)\n",
    "            print(\"Donwload finalizado. Salvo em: {}\".format(caminho_arquivo_zip))\n"
   ]
  },
  {
   "cell_type": "code",
   "execution_count": 38,
   "id": "2f64669f-6a5f-4488-910d-6268bf63b61b",
   "metadata": {},
   "outputs": [
    {
     "name": "stdout",
     "output_type": "stream",
     "text": [
      "Arquivo ZIP descompactado em: C:\\dados_pesquisa\n"
     ]
    }
   ],
   "source": [
    "with zipfile.ZipFile(caminho_arquivo_zip, 'r') as zip_ref:\n",
    "    zip_ref.extractall(diretorio_destino)\n",
    " \n",
    "print(f\"Arquivo ZIP descompactado em: {diretorio_destino}\")"
   ]
  },
  {
   "cell_type": "code",
   "execution_count": 39,
   "id": "b0360349-a7f0-4850-b447-d863fcb02d81",
   "metadata": {},
   "outputs": [],
   "source": [
    "import pandas as pd\n",
    "import matplotlib.pyplot as plt\n",
    "import seaborn as sns"
   ]
  },
  {
   "cell_type": "markdown",
   "id": "d6fa15dd-43b2-4f19-9409-12b7d8d098a3",
   "metadata": {},
   "source": [
    "# Importação dos arquivos CVS"
   ]
  },
  {
   "cell_type": "code",
   "execution_count": 40,
   "id": "5bb592af-983c-4900-9de8-e329bf386c50",
   "metadata": {},
   "outputs": [],
   "source": [
    "diretorio_arquivo = r'C:\\dados_pesquisa\\dados_pesquisa_preferencias.csv'\n",
    "df = pd.read_csv(diretorio_arquivo, sep='|')\n"
   ]
  },
  {
   "cell_type": "code",
   "execution_count": 41,
   "id": "532fccb0-a9f7-4b67-81b2-f6c3bfc897d1",
   "metadata": {},
   "outputs": [],
   "source": [
    "diretorio_arquivo = r'C:\\dados_pesquisa\\estado_regiao1.csv'\n",
    "df2 = pd.read_csv(diretorio_arquivo, sep='|', encoding='ISO-8859-1')"
   ]
  },
  {
   "cell_type": "code",
   "execution_count": 42,
   "id": "eaab8069-0f66-41ec-a08d-7140b8e5040c",
   "metadata": {},
   "outputs": [
    {
     "data": {
      "text/plain": [
       "(2158, 9)"
      ]
     },
     "execution_count": 42,
     "metadata": {},
     "output_type": "execute_result"
    }
   ],
   "source": [
    "df.shape"
   ]
  },
  {
   "cell_type": "code",
   "execution_count": 45,
   "id": "5745c9f6-3bd4-4c4f-94b2-9f925595e203",
   "metadata": {},
   "outputs": [
    {
     "name": "stdout",
     "output_type": "stream",
     "text": [
      "<class 'pandas.core.frame.DataFrame'>\n",
      "RangeIndex: 2158 entries, 0 to 2157\n",
      "Data columns (total 9 columns):\n",
      " #   Column            Non-Null Count  Dtype \n",
      "---  ------            --------------  ----- \n",
      " 0   cod_pessoa        2158 non-null   int64 \n",
      " 1   data_coleta       2158 non-null   object\n",
      " 2   genero            2158 non-null   object\n",
      " 3   data_nascimento   2158 non-null   object\n",
      " 4   animal_estimacao  2158 non-null   object\n",
      " 5   clima             2147 non-null   object\n",
      " 6   bebida_favorita   2158 non-null   object\n",
      " 7   hobbies           2137 non-null   object\n",
      " 8   cod_estado        2158 non-null   int64 \n",
      "dtypes: int64(2), object(7)\n",
      "memory usage: 151.9+ KB\n"
     ]
    }
   ],
   "source": [
    "df.info()"
   ]
  },
  {
   "cell_type": "code",
   "execution_count": 46,
   "id": "53d92bf2-2507-475d-8923-43342104d812",
   "metadata": {},
   "outputs": [
    {
     "data": {
      "text/html": [
       "<div>\n",
       "<style scoped>\n",
       "    .dataframe tbody tr th:only-of-type {\n",
       "        vertical-align: middle;\n",
       "    }\n",
       "\n",
       "    .dataframe tbody tr th {\n",
       "        vertical-align: top;\n",
       "    }\n",
       "\n",
       "    .dataframe thead th {\n",
       "        text-align: right;\n",
       "    }\n",
       "</style>\n",
       "<table border=\"1\" class=\"dataframe\">\n",
       "  <thead>\n",
       "    <tr style=\"text-align: right;\">\n",
       "      <th></th>\n",
       "      <th>cod_pessoa</th>\n",
       "      <th>cod_estado</th>\n",
       "    </tr>\n",
       "  </thead>\n",
       "  <tbody>\n",
       "    <tr>\n",
       "      <th>count</th>\n",
       "      <td>2.158000e+03</td>\n",
       "      <td>2158.000000</td>\n",
       "    </tr>\n",
       "    <tr>\n",
       "      <th>mean</th>\n",
       "      <td>1.014257e+07</td>\n",
       "      <td>13.946247</td>\n",
       "    </tr>\n",
       "    <tr>\n",
       "      <th>std</th>\n",
       "      <td>6.140054e+02</td>\n",
       "      <td>7.813892</td>\n",
       "    </tr>\n",
       "    <tr>\n",
       "      <th>min</th>\n",
       "      <td>1.014150e+07</td>\n",
       "      <td>1.000000</td>\n",
       "    </tr>\n",
       "    <tr>\n",
       "      <th>25%</th>\n",
       "      <td>1.014204e+07</td>\n",
       "      <td>7.000000</td>\n",
       "    </tr>\n",
       "    <tr>\n",
       "      <th>50%</th>\n",
       "      <td>1.014257e+07</td>\n",
       "      <td>14.000000</td>\n",
       "    </tr>\n",
       "    <tr>\n",
       "      <th>75%</th>\n",
       "      <td>1.014310e+07</td>\n",
       "      <td>21.000000</td>\n",
       "    </tr>\n",
       "    <tr>\n",
       "      <th>max</th>\n",
       "      <td>1.014363e+07</td>\n",
       "      <td>27.000000</td>\n",
       "    </tr>\n",
       "  </tbody>\n",
       "</table>\n",
       "</div>"
      ],
      "text/plain": [
       "         cod_pessoa   cod_estado\n",
       "count  2.158000e+03  2158.000000\n",
       "mean   1.014257e+07    13.946247\n",
       "std    6.140054e+02     7.813892\n",
       "min    1.014150e+07     1.000000\n",
       "25%    1.014204e+07     7.000000\n",
       "50%    1.014257e+07    14.000000\n",
       "75%    1.014310e+07    21.000000\n",
       "max    1.014363e+07    27.000000"
      ]
     },
     "execution_count": 46,
     "metadata": {},
     "output_type": "execute_result"
    }
   ],
   "source": [
    "df.describe()"
   ]
  },
  {
   "cell_type": "code",
   "execution_count": 47,
   "id": "a08873aa-f66a-4077-b84b-6bde3144f6f2",
   "metadata": {},
   "outputs": [
    {
     "data": {
      "text/html": [
       "<div>\n",
       "<style scoped>\n",
       "    .dataframe tbody tr th:only-of-type {\n",
       "        vertical-align: middle;\n",
       "    }\n",
       "\n",
       "    .dataframe tbody tr th {\n",
       "        vertical-align: top;\n",
       "    }\n",
       "\n",
       "    .dataframe thead th {\n",
       "        text-align: right;\n",
       "    }\n",
       "</style>\n",
       "<table border=\"1\" class=\"dataframe\">\n",
       "  <thead>\n",
       "    <tr style=\"text-align: right;\">\n",
       "      <th></th>\n",
       "      <th>id_estado</th>\n",
       "    </tr>\n",
       "  </thead>\n",
       "  <tbody>\n",
       "    <tr>\n",
       "      <th>count</th>\n",
       "      <td>27.000000</td>\n",
       "    </tr>\n",
       "    <tr>\n",
       "      <th>mean</th>\n",
       "      <td>14.000000</td>\n",
       "    </tr>\n",
       "    <tr>\n",
       "      <th>std</th>\n",
       "      <td>7.937254</td>\n",
       "    </tr>\n",
       "    <tr>\n",
       "      <th>min</th>\n",
       "      <td>1.000000</td>\n",
       "    </tr>\n",
       "    <tr>\n",
       "      <th>25%</th>\n",
       "      <td>7.500000</td>\n",
       "    </tr>\n",
       "    <tr>\n",
       "      <th>50%</th>\n",
       "      <td>14.000000</td>\n",
       "    </tr>\n",
       "    <tr>\n",
       "      <th>75%</th>\n",
       "      <td>20.500000</td>\n",
       "    </tr>\n",
       "    <tr>\n",
       "      <th>max</th>\n",
       "      <td>27.000000</td>\n",
       "    </tr>\n",
       "  </tbody>\n",
       "</table>\n",
       "</div>"
      ],
      "text/plain": [
       "       id_estado\n",
       "count  27.000000\n",
       "mean   14.000000\n",
       "std     7.937254\n",
       "min     1.000000\n",
       "25%     7.500000\n",
       "50%    14.000000\n",
       "75%    20.500000\n",
       "max    27.000000"
      ]
     },
     "execution_count": 47,
     "metadata": {},
     "output_type": "execute_result"
    }
   ],
   "source": [
    "df2.describe()"
   ]
  },
  {
   "cell_type": "markdown",
   "id": "4ece6e87-2669-4ba9-ba18-5dd56973de74",
   "metadata": {},
   "source": [
    "# Verificando se há dados duplicados"
   ]
  },
  {
   "cell_type": "code",
   "execution_count": 48,
   "id": "8723d42e-2b53-4b88-ac16-b0699f5e8375",
   "metadata": {},
   "outputs": [
    {
     "data": {
      "text/plain": [
       "cod_pessoa          31\n",
       "data_coleta         31\n",
       "genero              31\n",
       "data_nascimento     31\n",
       "animal_estimacao    31\n",
       "clima               31\n",
       "bebida_favorita     31\n",
       "hobbies             31\n",
       "cod_estado          31\n",
       "dtype: int64"
      ]
     },
     "execution_count": 48,
     "metadata": {},
     "output_type": "execute_result"
    }
   ],
   "source": [
    "df[df.duplicated()].count()"
   ]
  },
  {
   "cell_type": "code",
   "execution_count": null,
   "id": "db6b9b99-7aa8-44fd-ac0b-9ae823c2bb65",
   "metadata": {},
   "outputs": [],
   "source": [
    "# Eliminando dados duplicados"
   ]
  },
  {
   "cell_type": "code",
   "execution_count": 49,
   "id": "27b6ccb1-48d0-4343-b352-8afb31a55082",
   "metadata": {},
   "outputs": [],
   "source": [
    "df.drop_duplicates(inplace=True)"
   ]
  },
  {
   "cell_type": "markdown",
   "id": "ea8e2b29-c771-47f3-ad32-ce7c1e35f23e",
   "metadata": {},
   "source": [
    "# Verificando a consistência da alteração"
   ]
  },
  {
   "cell_type": "code",
   "execution_count": 50,
   "id": "6a47a845-3cfc-4102-a8a4-025629e5260e",
   "metadata": {},
   "outputs": [
    {
     "data": {
      "text/plain": [
       "id_estado    0\n",
       "sigla        0\n",
       "estado       0\n",
       "regiao       0\n",
       "pais         0\n",
       "dtype: int64"
      ]
     },
     "execution_count": 50,
     "metadata": {},
     "output_type": "execute_result"
    }
   ],
   "source": [
    "df2[df2.duplicated()].count()"
   ]
  },
  {
   "cell_type": "code",
   "execution_count": 51,
   "id": "1ed12df1-556b-456e-aa40-6e28770fb23b",
   "metadata": {},
   "outputs": [
    {
     "data": {
      "text/plain": [
       "cod_pessoa          0\n",
       "data_coleta         0\n",
       "genero              0\n",
       "data_nascimento     0\n",
       "animal_estimacao    0\n",
       "clima               0\n",
       "bebida_favorita     0\n",
       "hobbies             0\n",
       "cod_estado          0\n",
       "dtype: int64"
      ]
     },
     "execution_count": 51,
     "metadata": {},
     "output_type": "execute_result"
    }
   ],
   "source": [
    "df[df.duplicated()].count()"
   ]
  },
  {
   "cell_type": "markdown",
   "id": "6ebd7911-47c5-4e05-9bbd-ada10c9a84de",
   "metadata": {},
   "source": [
    "# Verificando se há registros nulos"
   ]
  },
  {
   "cell_type": "code",
   "execution_count": 52,
   "id": "61d10815-f630-40fd-b9a2-4a24ddc6e0cc",
   "metadata": {},
   "outputs": [
    {
     "data": {
      "text/plain": [
       "cod_pessoa           0\n",
       "data_coleta          0\n",
       "genero               0\n",
       "data_nascimento      0\n",
       "animal_estimacao     0\n",
       "clima               11\n",
       "bebida_favorita      0\n",
       "hobbies             21\n",
       "cod_estado           0\n",
       "dtype: int64"
      ]
     },
     "execution_count": 52,
     "metadata": {},
     "output_type": "execute_result"
    }
   ],
   "source": [
    "df.isnull().sum()"
   ]
  },
  {
   "cell_type": "code",
   "execution_count": 53,
   "id": "0d84db78-8278-4e1e-b01b-81a463bd302c",
   "metadata": {},
   "outputs": [
    {
     "data": {
      "text/plain": [
       "id_estado    0\n",
       "sigla        0\n",
       "estado       0\n",
       "regiao       0\n",
       "pais         0\n",
       "dtype: int64"
      ]
     },
     "execution_count": 53,
     "metadata": {},
     "output_type": "execute_result"
    }
   ],
   "source": [
    "df2.isnull().sum()"
   ]
  },
  {
   "cell_type": "markdown",
   "id": "d9a3bf6e-299c-44b0-afb2-fefdbde8937e",
   "metadata": {},
   "source": [
    "# Tratando dados nulos utilizando a técnica moda(usar o valor mais frequente da categoria)"
   ]
  },
  {
   "cell_type": "code",
   "execution_count": 54,
   "id": "85e7eb8b-f450-4807-a6b9-b3a2cd4a04cc",
   "metadata": {},
   "outputs": [
    {
     "name": "stderr",
     "output_type": "stream",
     "text": [
      "C:\\Users\\lorai\\AppData\\Local\\Temp\\ipykernel_23136\\1415602003.py:2: FutureWarning: A value is trying to be set on a copy of a DataFrame or Series through chained assignment using an inplace method.\n",
      "The behavior will change in pandas 3.0. This inplace method will never work because the intermediate object on which we are setting values always behaves as a copy.\n",
      "\n",
      "For example, when doing 'df[col].method(value, inplace=True)', try using 'df.method({col: value}, inplace=True)' or df[col] = df[col].method(value) instead, to perform the operation inplace on the original object.\n",
      "\n",
      "\n",
      "  df['hobbies'].fillna(moda, inplace=True)\n"
     ]
    }
   ],
   "source": [
    "moda = df['hobbies'].mode()[0]\n",
    "df['hobbies'].fillna(moda, inplace=True)"
   ]
  },
  {
   "cell_type": "code",
   "execution_count": 55,
   "id": "f38a449f-3bdf-4741-b3d0-6acfd803254f",
   "metadata": {},
   "outputs": [
    {
     "data": {
      "text/plain": [
       "cod_pessoa           0\n",
       "data_coleta          0\n",
       "genero               0\n",
       "data_nascimento      0\n",
       "animal_estimacao     0\n",
       "clima               11\n",
       "bebida_favorita      0\n",
       "hobbies              0\n",
       "cod_estado           0\n",
       "dtype: int64"
      ]
     },
     "execution_count": 55,
     "metadata": {},
     "output_type": "execute_result"
    }
   ],
   "source": [
    "df.isnull().sum()"
   ]
  },
  {
   "cell_type": "code",
   "execution_count": 56,
   "id": "13b37457-b58b-410a-a442-6f323f2fece9",
   "metadata": {},
   "outputs": [
    {
     "name": "stdout",
     "output_type": "stream",
     "text": [
      "Linhas com dados ausentes na coluna 'clima':\n",
      "     cod_pessoa data_coleta     genero data_nascimento animal_estimacao clima  \\\n",
      "313    10143048  2020-02-22  Masculino      1977-07-05         cachorro   NaN   \n",
      "318    10142282  2020-02-23  Masculino      1962-04-22             gato   NaN   \n",
      "327    10141913  2020-02-25   Feminino      1996-02-07             gato   NaN   \n",
      "328    10142780  2020-02-25  Masculino      1985-02-16         cachorro   NaN   \n",
      "329    10142848  2020-02-25  Masculino      1957-02-02             gato   NaN   \n",
      "407    10142264  2020-03-09  Masculino      1962-08-20        tartaruga   NaN   \n",
      "413    10142050  2020-03-10  Masculino      1950-11-20         cachorro   NaN   \n",
      "414    10142465  2020-03-10  Masculino      1998-10-15            peixe   NaN   \n",
      "420    10143457  2020-03-10   Feminino      1963-05-27         cachorro   NaN   \n",
      "423    10142424  2020-03-11  Masculino      1974-05-28             gato   NaN   \n",
      "428    10141730  2020-03-13   Feminino      1999-12-12        tartaruga   NaN   \n",
      "\n",
      "    bebida_favorita             hobbies  cod_estado  \n",
      "313            Café          Ler livros          22  \n",
      "318         Cerveja         Assistir TV          26  \n",
      "327           Vinho      Pintar quadros           9  \n",
      "328           Vinho      Escutar música          26  \n",
      "329         Cerveja          Ler livros          11  \n",
      "407         Cerveja              Dormir           2  \n",
      "413             Chá              Dormir           4  \n",
      "414         Cerveja      Escutar música           3  \n",
      "420             Chá          Ler livros          14  \n",
      "423           Vinho  Aprender algo novo           8  \n",
      "428    refrigerante          Ler livros           1  \n"
     ]
    }
   ],
   "source": [
    "dados_ausentes = df['clima'].isnull()\n",
    "dados_ausentes_df = df[dados_ausentes]\n",
    "# Exibir os dados ausentes\n",
    "print(\"Linhas com dados ausentes na coluna 'clima':\")\n",
    "print(dados_ausentes_df)"
   ]
  },
  {
   "cell_type": "code",
   "execution_count": 57,
   "id": "679726aa-00d8-46c6-b064-23a502a1da36",
   "metadata": {},
   "outputs": [
    {
     "name": "stdout",
     "output_type": "stream",
     "text": [
      "<class 'pandas.core.frame.DataFrame'>\n",
      "Index: 2127 entries, 0 to 2157\n",
      "Data columns (total 9 columns):\n",
      " #   Column            Non-Null Count  Dtype \n",
      "---  ------            --------------  ----- \n",
      " 0   cod_pessoa        2127 non-null   int64 \n",
      " 1   data_coleta       2127 non-null   object\n",
      " 2   genero            2127 non-null   object\n",
      " 3   data_nascimento   2127 non-null   object\n",
      " 4   animal_estimacao  2127 non-null   object\n",
      " 5   clima             2116 non-null   object\n",
      " 6   bebida_favorita   2127 non-null   object\n",
      " 7   hobbies           2127 non-null   object\n",
      " 8   cod_estado        2127 non-null   int64 \n",
      "dtypes: int64(2), object(7)\n",
      "memory usage: 166.2+ KB\n"
     ]
    }
   ],
   "source": [
    "df.info()"
   ]
  },
  {
   "cell_type": "code",
   "execution_count": 58,
   "id": "4619d6e4-6201-41a1-84d0-639ffb35d115",
   "metadata": {},
   "outputs": [
    {
     "name": "stdout",
     "output_type": "stream",
     "text": [
      "<class 'pandas.core.frame.DataFrame'>\n",
      "RangeIndex: 27 entries, 0 to 26\n",
      "Data columns (total 5 columns):\n",
      " #   Column     Non-Null Count  Dtype \n",
      "---  ------     --------------  ----- \n",
      " 0   id_estado  27 non-null     int64 \n",
      " 1   sigla      27 non-null     object\n",
      " 2   estado     27 non-null     object\n",
      " 3   regiao     27 non-null     object\n",
      " 4   pais       27 non-null     object\n",
      "dtypes: int64(1), object(4)\n",
      "memory usage: 1.2+ KB\n"
     ]
    }
   ],
   "source": [
    "df2.info()"
   ]
  },
  {
   "cell_type": "code",
   "execution_count": 59,
   "id": "e4180bca-6a9a-4d6b-b3d4-4d8ae67d3ad8",
   "metadata": {},
   "outputs": [
    {
     "name": "stderr",
     "output_type": "stream",
     "text": [
      "C:\\Users\\lorai\\AppData\\Local\\Temp\\ipykernel_23136\\878020351.py:2: FutureWarning: A value is trying to be set on a copy of a DataFrame or Series through chained assignment using an inplace method.\n",
      "The behavior will change in pandas 3.0. This inplace method will never work because the intermediate object on which we are setting values always behaves as a copy.\n",
      "\n",
      "For example, when doing 'df[col].method(value, inplace=True)', try using 'df.method({col: value}, inplace=True)' or df[col] = df[col].method(value) instead, to perform the operation inplace on the original object.\n",
      "\n",
      "\n",
      "  df['clima'].fillna(moda, inplace=True)\n"
     ]
    }
   ],
   "source": [
    "moda = df['clima'].mode()[0]\n",
    "df['clima'].fillna(moda, inplace=True)"
   ]
  },
  {
   "cell_type": "code",
   "execution_count": 60,
   "id": "0d6139ea-aa47-4d36-8552-19f19675baf0",
   "metadata": {},
   "outputs": [
    {
     "data": {
      "text/plain": [
       "cod_pessoa          0\n",
       "data_coleta         0\n",
       "genero              0\n",
       "data_nascimento     0\n",
       "animal_estimacao    0\n",
       "clima               0\n",
       "bebida_favorita     0\n",
       "hobbies             0\n",
       "cod_estado          0\n",
       "dtype: int64"
      ]
     },
     "execution_count": 60,
     "metadata": {},
     "output_type": "execute_result"
    }
   ],
   "source": [
    "df.isnull().sum()"
   ]
  },
  {
   "cell_type": "code",
   "execution_count": 61,
   "id": "80bac60f-59de-4db0-a6d7-2cda721956e8",
   "metadata": {},
   "outputs": [
    {
     "data": {
      "text/html": [
       "<div>\n",
       "<style scoped>\n",
       "    .dataframe tbody tr th:only-of-type {\n",
       "        vertical-align: middle;\n",
       "    }\n",
       "\n",
       "    .dataframe tbody tr th {\n",
       "        vertical-align: top;\n",
       "    }\n",
       "\n",
       "    .dataframe thead th {\n",
       "        text-align: right;\n",
       "    }\n",
       "</style>\n",
       "<table border=\"1\" class=\"dataframe\">\n",
       "  <thead>\n",
       "    <tr style=\"text-align: right;\">\n",
       "      <th></th>\n",
       "      <th>cod_pessoa</th>\n",
       "      <th>cod_estado</th>\n",
       "    </tr>\n",
       "  </thead>\n",
       "  <tbody>\n",
       "    <tr>\n",
       "      <th>count</th>\n",
       "      <td>2.127000e+03</td>\n",
       "      <td>2127.000000</td>\n",
       "    </tr>\n",
       "    <tr>\n",
       "      <th>mean</th>\n",
       "      <td>1.014256e+07</td>\n",
       "      <td>13.949224</td>\n",
       "    </tr>\n",
       "    <tr>\n",
       "      <th>std</th>\n",
       "      <td>6.141563e+02</td>\n",
       "      <td>7.818211</td>\n",
       "    </tr>\n",
       "    <tr>\n",
       "      <th>min</th>\n",
       "      <td>1.014150e+07</td>\n",
       "      <td>1.000000</td>\n",
       "    </tr>\n",
       "    <tr>\n",
       "      <th>25%</th>\n",
       "      <td>1.014203e+07</td>\n",
       "      <td>7.000000</td>\n",
       "    </tr>\n",
       "    <tr>\n",
       "      <th>50%</th>\n",
       "      <td>1.014256e+07</td>\n",
       "      <td>14.000000</td>\n",
       "    </tr>\n",
       "    <tr>\n",
       "      <th>75%</th>\n",
       "      <td>1.014310e+07</td>\n",
       "      <td>21.000000</td>\n",
       "    </tr>\n",
       "    <tr>\n",
       "      <th>max</th>\n",
       "      <td>1.014363e+07</td>\n",
       "      <td>27.000000</td>\n",
       "    </tr>\n",
       "  </tbody>\n",
       "</table>\n",
       "</div>"
      ],
      "text/plain": [
       "         cod_pessoa   cod_estado\n",
       "count  2.127000e+03  2127.000000\n",
       "mean   1.014256e+07    13.949224\n",
       "std    6.141563e+02     7.818211\n",
       "min    1.014150e+07     1.000000\n",
       "25%    1.014203e+07     7.000000\n",
       "50%    1.014256e+07    14.000000\n",
       "75%    1.014310e+07    21.000000\n",
       "max    1.014363e+07    27.000000"
      ]
     },
     "execution_count": 61,
     "metadata": {},
     "output_type": "execute_result"
    }
   ],
   "source": [
    "df.describe()"
   ]
  },
  {
   "cell_type": "code",
   "execution_count": 62,
   "id": "50becb12-ff76-4361-98c8-f2b1959dc5d6",
   "metadata": {},
   "outputs": [],
   "source": [
    "import pandas as pd\n",
    "from datetime import datetime"
   ]
  },
  {
   "cell_type": "code",
   "execution_count": 63,
   "id": "229a05aa-f2e1-49ea-92a0-c1eebee10f14",
   "metadata": {},
   "outputs": [],
   "source": [
    "# Aplicando a conversão na variável DataNascimento\n",
    "df['data_nascimento'] = df['data_nascimento'].astype('datetime64[ns]')"
   ]
  },
  {
   "cell_type": "code",
   "execution_count": 64,
   "id": "ed74fc31-42c4-4fef-ab12-2597d0d279ae",
   "metadata": {},
   "outputs": [],
   "source": [
    "df['data_nascimento'] = pd.to_datetime(df['data_nascimento'])\n",
    "\n",
    "# Calcule a diferença entre a data atual e a 'data_nascimento' em anos\n",
    "data_atual = datetime.now()\n",
    "df['idade'] = (data_atual - df['data_nascimento']).dt.days // 365\n"
   ]
  },
  {
   "cell_type": "code",
   "execution_count": 65,
   "id": "ec5821ca-6e78-4108-9034-4ec1ac92e527",
   "metadata": {},
   "outputs": [
    {
     "name": "stdout",
     "output_type": "stream",
     "text": [
      "<class 'pandas.core.frame.DataFrame'>\n",
      "Index: 2127 entries, 0 to 2157\n",
      "Data columns (total 10 columns):\n",
      " #   Column            Non-Null Count  Dtype         \n",
      "---  ------            --------------  -----         \n",
      " 0   cod_pessoa        2127 non-null   int64         \n",
      " 1   data_coleta       2127 non-null   object        \n",
      " 2   genero            2127 non-null   object        \n",
      " 3   data_nascimento   2127 non-null   datetime64[ns]\n",
      " 4   animal_estimacao  2127 non-null   object        \n",
      " 5   clima             2127 non-null   object        \n",
      " 6   bebida_favorita   2127 non-null   object        \n",
      " 7   hobbies           2127 non-null   object        \n",
      " 8   cod_estado        2127 non-null   int64         \n",
      " 9   idade             2127 non-null   int64         \n",
      "dtypes: datetime64[ns](1), int64(3), object(6)\n",
      "memory usage: 182.8+ KB\n"
     ]
    }
   ],
   "source": [
    "df.info()"
   ]
  },
  {
   "cell_type": "code",
   "execution_count": 66,
   "id": "11dfd43a-04bf-44f2-b0bb-b2efb07b8945",
   "metadata": {},
   "outputs": [
    {
     "data": {
      "text/html": [
       "<div>\n",
       "<style scoped>\n",
       "    .dataframe tbody tr th:only-of-type {\n",
       "        vertical-align: middle;\n",
       "    }\n",
       "\n",
       "    .dataframe tbody tr th {\n",
       "        vertical-align: top;\n",
       "    }\n",
       "\n",
       "    .dataframe thead th {\n",
       "        text-align: right;\n",
       "    }\n",
       "</style>\n",
       "<table border=\"1\" class=\"dataframe\">\n",
       "  <thead>\n",
       "    <tr style=\"text-align: right;\">\n",
       "      <th></th>\n",
       "      <th>cod_pessoa</th>\n",
       "      <th>data_coleta</th>\n",
       "      <th>genero</th>\n",
       "      <th>data_nascimento</th>\n",
       "      <th>animal_estimacao</th>\n",
       "      <th>clima</th>\n",
       "      <th>bebida_favorita</th>\n",
       "      <th>hobbies</th>\n",
       "      <th>cod_estado</th>\n",
       "      <th>idade</th>\n",
       "    </tr>\n",
       "  </thead>\n",
       "  <tbody>\n",
       "    <tr>\n",
       "      <th>0</th>\n",
       "      <td>10141743</td>\n",
       "      <td>2020-01-01</td>\n",
       "      <td>Masculino</td>\n",
       "      <td>1981-04-25</td>\n",
       "      <td>peixe</td>\n",
       "      <td>frio</td>\n",
       "      <td>Cerveja</td>\n",
       "      <td>Praticar esporte</td>\n",
       "      <td>12</td>\n",
       "      <td>42</td>\n",
       "    </tr>\n",
       "    <tr>\n",
       "      <th>1</th>\n",
       "      <td>10141860</td>\n",
       "      <td>2020-01-01</td>\n",
       "      <td>Feminino</td>\n",
       "      <td>1966-01-19</td>\n",
       "      <td>peixe</td>\n",
       "      <td>quente</td>\n",
       "      <td>Café</td>\n",
       "      <td>Assistir TV</td>\n",
       "      <td>12</td>\n",
       "      <td>58</td>\n",
       "    </tr>\n",
       "    <tr>\n",
       "      <th>2</th>\n",
       "      <td>10142548</td>\n",
       "      <td>2020-01-01</td>\n",
       "      <td>Masculino</td>\n",
       "      <td>1973-08-02</td>\n",
       "      <td>tartaruga</td>\n",
       "      <td>frio</td>\n",
       "      <td>Café</td>\n",
       "      <td>Ler livros</td>\n",
       "      <td>11</td>\n",
       "      <td>50</td>\n",
       "    </tr>\n",
       "    <tr>\n",
       "      <th>3</th>\n",
       "      <td>10142591</td>\n",
       "      <td>2020-01-01</td>\n",
       "      <td>Masculino</td>\n",
       "      <td>1997-03-05</td>\n",
       "      <td>gato</td>\n",
       "      <td>moderado</td>\n",
       "      <td>Cerveja</td>\n",
       "      <td>Aprender algo novo</td>\n",
       "      <td>14</td>\n",
       "      <td>26</td>\n",
       "    </tr>\n",
       "    <tr>\n",
       "      <th>4</th>\n",
       "      <td>10142654</td>\n",
       "      <td>2020-01-01</td>\n",
       "      <td>Feminino</td>\n",
       "      <td>1969-08-05</td>\n",
       "      <td>tartaruga</td>\n",
       "      <td>moderado</td>\n",
       "      <td>Café</td>\n",
       "      <td>Assistir TV</td>\n",
       "      <td>5</td>\n",
       "      <td>54</td>\n",
       "    </tr>\n",
       "  </tbody>\n",
       "</table>\n",
       "</div>"
      ],
      "text/plain": [
       "   cod_pessoa data_coleta     genero data_nascimento animal_estimacao  \\\n",
       "0    10141743  2020-01-01  Masculino      1981-04-25            peixe   \n",
       "1    10141860  2020-01-01   Feminino      1966-01-19            peixe   \n",
       "2    10142548  2020-01-01  Masculino      1973-08-02        tartaruga   \n",
       "3    10142591  2020-01-01  Masculino      1997-03-05             gato   \n",
       "4    10142654  2020-01-01   Feminino      1969-08-05        tartaruga   \n",
       "\n",
       "      clima bebida_favorita             hobbies  cod_estado  idade  \n",
       "0      frio         Cerveja    Praticar esporte          12     42  \n",
       "1    quente            Café         Assistir TV          12     58  \n",
       "2      frio            Café          Ler livros          11     50  \n",
       "3  moderado         Cerveja  Aprender algo novo          14     26  \n",
       "4  moderado            Café         Assistir TV           5     54  "
      ]
     },
     "execution_count": 66,
     "metadata": {},
     "output_type": "execute_result"
    }
   ],
   "source": [
    "df.head()"
   ]
  },
  {
   "cell_type": "code",
   "execution_count": 67,
   "id": "b6d66e89-d9df-4c3a-b4b5-e8b964b536d4",
   "metadata": {},
   "outputs": [
    {
     "data": {
      "text/html": [
       "<div>\n",
       "<style scoped>\n",
       "    .dataframe tbody tr th:only-of-type {\n",
       "        vertical-align: middle;\n",
       "    }\n",
       "\n",
       "    .dataframe tbody tr th {\n",
       "        vertical-align: top;\n",
       "    }\n",
       "\n",
       "    .dataframe thead th {\n",
       "        text-align: right;\n",
       "    }\n",
       "</style>\n",
       "<table border=\"1\" class=\"dataframe\">\n",
       "  <thead>\n",
       "    <tr style=\"text-align: right;\">\n",
       "      <th></th>\n",
       "      <th>cod_pessoa</th>\n",
       "      <th>data_nascimento</th>\n",
       "      <th>cod_estado</th>\n",
       "      <th>idade</th>\n",
       "    </tr>\n",
       "  </thead>\n",
       "  <tbody>\n",
       "    <tr>\n",
       "      <th>count</th>\n",
       "      <td>2.127000e+03</td>\n",
       "      <td>2127</td>\n",
       "      <td>2127.000000</td>\n",
       "      <td>2127.000000</td>\n",
       "    </tr>\n",
       "    <tr>\n",
       "      <th>mean</th>\n",
       "      <td>1.014256e+07</td>\n",
       "      <td>1975-02-08 03:27:09.901269408</td>\n",
       "      <td>13.949224</td>\n",
       "      <td>48.559473</td>\n",
       "    </tr>\n",
       "    <tr>\n",
       "      <th>min</th>\n",
       "      <td>1.014150e+07</td>\n",
       "      <td>1950-01-02 00:00:00</td>\n",
       "      <td>1.000000</td>\n",
       "      <td>24.000000</td>\n",
       "    </tr>\n",
       "    <tr>\n",
       "      <th>25%</th>\n",
       "      <td>1.014203e+07</td>\n",
       "      <td>1962-12-13 00:00:00</td>\n",
       "      <td>7.000000</td>\n",
       "      <td>36.000000</td>\n",
       "    </tr>\n",
       "    <tr>\n",
       "      <th>50%</th>\n",
       "      <td>1.014256e+07</td>\n",
       "      <td>1975-01-05 00:00:00</td>\n",
       "      <td>14.000000</td>\n",
       "      <td>49.000000</td>\n",
       "    </tr>\n",
       "    <tr>\n",
       "      <th>75%</th>\n",
       "      <td>1.014310e+07</td>\n",
       "      <td>1987-12-04 00:00:00</td>\n",
       "      <td>21.000000</td>\n",
       "      <td>61.000000</td>\n",
       "    </tr>\n",
       "    <tr>\n",
       "      <th>max</th>\n",
       "      <td>1.014363e+07</td>\n",
       "      <td>1999-12-17 00:00:00</td>\n",
       "      <td>27.000000</td>\n",
       "      <td>74.000000</td>\n",
       "    </tr>\n",
       "    <tr>\n",
       "      <th>std</th>\n",
       "      <td>6.141563e+02</td>\n",
       "      <td>NaN</td>\n",
       "      <td>7.818211</td>\n",
       "      <td>14.462854</td>\n",
       "    </tr>\n",
       "  </tbody>\n",
       "</table>\n",
       "</div>"
      ],
      "text/plain": [
       "         cod_pessoa                data_nascimento   cod_estado        idade\n",
       "count  2.127000e+03                           2127  2127.000000  2127.000000\n",
       "mean   1.014256e+07  1975-02-08 03:27:09.901269408    13.949224    48.559473\n",
       "min    1.014150e+07            1950-01-02 00:00:00     1.000000    24.000000\n",
       "25%    1.014203e+07            1962-12-13 00:00:00     7.000000    36.000000\n",
       "50%    1.014256e+07            1975-01-05 00:00:00    14.000000    49.000000\n",
       "75%    1.014310e+07            1987-12-04 00:00:00    21.000000    61.000000\n",
       "max    1.014363e+07            1999-12-17 00:00:00    27.000000    74.000000\n",
       "std    6.141563e+02                            NaN     7.818211    14.462854"
      ]
     },
     "execution_count": 67,
     "metadata": {},
     "output_type": "execute_result"
    }
   ],
   "source": [
    "df.describe()"
   ]
  },
  {
   "cell_type": "code",
   "execution_count": 69,
   "id": "e13e3798-07f0-4cd6-885c-a1b52b84c293",
   "metadata": {},
   "outputs": [],
   "source": [
    "# Supondo que você tenha dois DataFrames chamados df1 e df2 e que ambos tenham uma coluna 'campo_em_comum'\n",
    "# Substitua 'df1' e 'df2' pelos nomes reais dos seus DataFrames, se necessário\n",
    "\n",
    "df_resultado = pd.merge(df, df2, left_on='cod_estado', right_on='id_estado', how='inner')\n"
   ]
  },
  {
   "cell_type": "code",
   "execution_count": 70,
   "id": "5c52f562-dbb0-48d8-ae3c-5ee3fa8bbb95",
   "metadata": {},
   "outputs": [
    {
     "data": {
      "text/html": [
       "<div>\n",
       "<style scoped>\n",
       "    .dataframe tbody tr th:only-of-type {\n",
       "        vertical-align: middle;\n",
       "    }\n",
       "\n",
       "    .dataframe tbody tr th {\n",
       "        vertical-align: top;\n",
       "    }\n",
       "\n",
       "    .dataframe thead th {\n",
       "        text-align: right;\n",
       "    }\n",
       "</style>\n",
       "<table border=\"1\" class=\"dataframe\">\n",
       "  <thead>\n",
       "    <tr style=\"text-align: right;\">\n",
       "      <th></th>\n",
       "      <th>cod_pessoa</th>\n",
       "      <th>data_coleta</th>\n",
       "      <th>genero</th>\n",
       "      <th>data_nascimento</th>\n",
       "      <th>animal_estimacao</th>\n",
       "      <th>clima</th>\n",
       "      <th>bebida_favorita</th>\n",
       "      <th>hobbies</th>\n",
       "      <th>cod_estado</th>\n",
       "      <th>idade</th>\n",
       "      <th>id_estado</th>\n",
       "      <th>sigla</th>\n",
       "      <th>estado</th>\n",
       "      <th>regiao</th>\n",
       "      <th>pais</th>\n",
       "    </tr>\n",
       "  </thead>\n",
       "  <tbody>\n",
       "    <tr>\n",
       "      <th>0</th>\n",
       "      <td>10141743</td>\n",
       "      <td>2020-01-01</td>\n",
       "      <td>Masculino</td>\n",
       "      <td>1981-04-25</td>\n",
       "      <td>peixe</td>\n",
       "      <td>frio</td>\n",
       "      <td>Cerveja</td>\n",
       "      <td>Praticar esporte</td>\n",
       "      <td>12</td>\n",
       "      <td>42</td>\n",
       "      <td>12</td>\n",
       "      <td>MS</td>\n",
       "      <td>Mato Grosso do Sul</td>\n",
       "      <td>Centro-Oeste</td>\n",
       "      <td>Brasil</td>\n",
       "    </tr>\n",
       "    <tr>\n",
       "      <th>1</th>\n",
       "      <td>10141860</td>\n",
       "      <td>2020-01-01</td>\n",
       "      <td>Feminino</td>\n",
       "      <td>1966-01-19</td>\n",
       "      <td>peixe</td>\n",
       "      <td>quente</td>\n",
       "      <td>Café</td>\n",
       "      <td>Assistir TV</td>\n",
       "      <td>12</td>\n",
       "      <td>58</td>\n",
       "      <td>12</td>\n",
       "      <td>MS</td>\n",
       "      <td>Mato Grosso do Sul</td>\n",
       "      <td>Centro-Oeste</td>\n",
       "      <td>Brasil</td>\n",
       "    </tr>\n",
       "    <tr>\n",
       "      <th>2</th>\n",
       "      <td>10142548</td>\n",
       "      <td>2020-01-01</td>\n",
       "      <td>Masculino</td>\n",
       "      <td>1973-08-02</td>\n",
       "      <td>tartaruga</td>\n",
       "      <td>frio</td>\n",
       "      <td>Café</td>\n",
       "      <td>Ler livros</td>\n",
       "      <td>11</td>\n",
       "      <td>50</td>\n",
       "      <td>11</td>\n",
       "      <td>MT</td>\n",
       "      <td>Mato Grosso</td>\n",
       "      <td>Centro-Oeste</td>\n",
       "      <td>Brasil</td>\n",
       "    </tr>\n",
       "    <tr>\n",
       "      <th>3</th>\n",
       "      <td>10142591</td>\n",
       "      <td>2020-01-01</td>\n",
       "      <td>Masculino</td>\n",
       "      <td>1997-03-05</td>\n",
       "      <td>gato</td>\n",
       "      <td>moderado</td>\n",
       "      <td>Cerveja</td>\n",
       "      <td>Aprender algo novo</td>\n",
       "      <td>14</td>\n",
       "      <td>26</td>\n",
       "      <td>14</td>\n",
       "      <td>PA</td>\n",
       "      <td>Pará</td>\n",
       "      <td>Norte</td>\n",
       "      <td>Brasil</td>\n",
       "    </tr>\n",
       "    <tr>\n",
       "      <th>4</th>\n",
       "      <td>10142654</td>\n",
       "      <td>2020-01-01</td>\n",
       "      <td>Feminino</td>\n",
       "      <td>1969-08-05</td>\n",
       "      <td>tartaruga</td>\n",
       "      <td>moderado</td>\n",
       "      <td>Café</td>\n",
       "      <td>Assistir TV</td>\n",
       "      <td>5</td>\n",
       "      <td>54</td>\n",
       "      <td>5</td>\n",
       "      <td>BA</td>\n",
       "      <td>Bahia</td>\n",
       "      <td>Nordeste</td>\n",
       "      <td>Brasil</td>\n",
       "    </tr>\n",
       "  </tbody>\n",
       "</table>\n",
       "</div>"
      ],
      "text/plain": [
       "   cod_pessoa data_coleta     genero data_nascimento animal_estimacao  \\\n",
       "0    10141743  2020-01-01  Masculino      1981-04-25            peixe   \n",
       "1    10141860  2020-01-01   Feminino      1966-01-19            peixe   \n",
       "2    10142548  2020-01-01  Masculino      1973-08-02        tartaruga   \n",
       "3    10142591  2020-01-01  Masculino      1997-03-05             gato   \n",
       "4    10142654  2020-01-01   Feminino      1969-08-05        tartaruga   \n",
       "\n",
       "      clima bebida_favorita             hobbies  cod_estado  idade  id_estado  \\\n",
       "0      frio         Cerveja    Praticar esporte          12     42         12   \n",
       "1    quente            Café         Assistir TV          12     58         12   \n",
       "2      frio            Café          Ler livros          11     50         11   \n",
       "3  moderado         Cerveja  Aprender algo novo          14     26         14   \n",
       "4  moderado            Café         Assistir TV           5     54          5   \n",
       "\n",
       "  sigla              estado        regiao    pais  \n",
       "0    MS  Mato Grosso do Sul  Centro-Oeste  Brasil  \n",
       "1    MS  Mato Grosso do Sul  Centro-Oeste  Brasil  \n",
       "2    MT         Mato Grosso  Centro-Oeste  Brasil  \n",
       "3    PA                Pará         Norte  Brasil  \n",
       "4    BA               Bahia      Nordeste  Brasil  "
      ]
     },
     "execution_count": 70,
     "metadata": {},
     "output_type": "execute_result"
    }
   ],
   "source": [
    "df_resultado.head()"
   ]
  },
  {
   "cell_type": "code",
   "execution_count": 71,
   "id": "17cf6f91-2f29-4461-b27d-0bf0b8ff497d",
   "metadata": {},
   "outputs": [
    {
     "data": {
      "text/html": [
       "<div>\n",
       "<style scoped>\n",
       "    .dataframe tbody tr th:only-of-type {\n",
       "        vertical-align: middle;\n",
       "    }\n",
       "\n",
       "    .dataframe tbody tr th {\n",
       "        vertical-align: top;\n",
       "    }\n",
       "\n",
       "    .dataframe thead th {\n",
       "        text-align: right;\n",
       "    }\n",
       "</style>\n",
       "<table border=\"1\" class=\"dataframe\">\n",
       "  <thead>\n",
       "    <tr style=\"text-align: right;\">\n",
       "      <th></th>\n",
       "      <th>idade</th>\n",
       "    </tr>\n",
       "    <tr>\n",
       "      <th>regiao</th>\n",
       "      <th></th>\n",
       "    </tr>\n",
       "  </thead>\n",
       "  <tbody>\n",
       "    <tr>\n",
       "      <th>Centro-Oeste</th>\n",
       "      <td>49.632399</td>\n",
       "    </tr>\n",
       "    <tr>\n",
       "      <th>Nordeste</th>\n",
       "      <td>48.623022</td>\n",
       "    </tr>\n",
       "    <tr>\n",
       "      <th>Norte</th>\n",
       "      <td>48.053265</td>\n",
       "    </tr>\n",
       "    <tr>\n",
       "      <th>Sudeste</th>\n",
       "      <td>48.000000</td>\n",
       "    </tr>\n",
       "    <tr>\n",
       "      <th>Sul</th>\n",
       "      <td>48.957346</td>\n",
       "    </tr>\n",
       "  </tbody>\n",
       "</table>\n",
       "</div>"
      ],
      "text/plain": [
       "                  idade\n",
       "regiao                 \n",
       "Centro-Oeste  49.632399\n",
       "Nordeste      48.623022\n",
       "Norte         48.053265\n",
       "Sudeste       48.000000\n",
       "Sul           48.957346"
      ]
     },
     "execution_count": 71,
     "metadata": {},
     "output_type": "execute_result"
    }
   ],
   "source": [
    "pd.DataFrame(df_resultado.groupby(['regiao'])['idade'].mean())"
   ]
  },
  {
   "cell_type": "code",
   "execution_count": 72,
   "id": "d8c218b4-1c01-4f2b-aea9-20d814a5049a",
   "metadata": {},
   "outputs": [
    {
     "data": {
      "text/plain": [
       "<Axes: title={'center': 'Grafico BOXPLOT'}, xlabel='idade', ylabel='animal_estimacao'>"
      ]
     },
     "execution_count": 72,
     "metadata": {},
     "output_type": "execute_result"
    },
    {
     "data": {
      "image/png": "[encoded data removed]",
      "text/plain": [
       "<Figure size 500x300 with 1 Axes>"
      ]
     },
     "metadata": {},
     "output_type": "display_data"
    }
   ],
   "source": [
    "plt.figure(figsize=(5,3))\n",
    "plt.title('Grafico BOXPLOT', size=20)\n",
    "sns.boxplot(data=df_resultado.query('genero == \"Masculino\" and estado == \"Minas Gerais\"'), \n",
    "             x='idade', \n",
    "             y='animal_estimacao'\n",
    "             )\n",
    "\n"
   ]
  },
  {
   "cell_type": "markdown",
   "id": "082ce0c4-799e-4afa-9bae-50ce1ebc6c4d",
   "metadata": {},
   "source": [
    "# Animal de maior preferencia entre as mulheres"
   ]
  },
  {
   "cell_type": "code",
   "execution_count": 73,
   "id": "a5774dc4-889d-4b5e-a347-4053764ad036",
   "metadata": {},
   "outputs": [
    {
     "data": {
      "text/html": [
       "<div>\n",
       "<style scoped>\n",
       "    .dataframe tbody tr th:only-of-type {\n",
       "        vertical-align: middle;\n",
       "    }\n",
       "\n",
       "    .dataframe tbody tr th {\n",
       "        vertical-align: top;\n",
       "    }\n",
       "\n",
       "    .dataframe thead th {\n",
       "        text-align: right;\n",
       "    }\n",
       "</style>\n",
       "<table border=\"1\" class=\"dataframe\">\n",
       "  <thead>\n",
       "    <tr style=\"text-align: right;\">\n",
       "      <th>genero</th>\n",
       "      <th>Feminino</th>\n",
       "      <th>Masculino</th>\n",
       "    </tr>\n",
       "    <tr>\n",
       "      <th>animal_estimacao</th>\n",
       "      <th></th>\n",
       "      <th></th>\n",
       "    </tr>\n",
       "  </thead>\n",
       "  <tbody>\n",
       "    <tr>\n",
       "      <th>cachorro</th>\n",
       "      <td>143</td>\n",
       "      <td>271</td>\n",
       "    </tr>\n",
       "    <tr>\n",
       "      <th>gato</th>\n",
       "      <td>279</td>\n",
       "      <td>585</td>\n",
       "    </tr>\n",
       "    <tr>\n",
       "      <th>peixe</th>\n",
       "      <td>158</td>\n",
       "      <td>274</td>\n",
       "    </tr>\n",
       "    <tr>\n",
       "      <th>tartaruga</th>\n",
       "      <td>149</td>\n",
       "      <td>268</td>\n",
       "    </tr>\n",
       "  </tbody>\n",
       "</table>\n",
       "</div>"
      ],
      "text/plain": [
       "genero            Feminino  Masculino\n",
       "animal_estimacao                     \n",
       "cachorro               143        271\n",
       "gato                   279        585\n",
       "peixe                  158        274\n",
       "tartaruga              149        268"
      ]
     },
     "execution_count": 73,
     "metadata": {},
     "output_type": "execute_result"
    }
   ],
   "source": [
    "pd.crosstab(df['animal_estimacao'], df['genero'])"
   ]
  },
  {
   "cell_type": "markdown",
   "id": "21409390-0388-4442-bc7c-f3fa0e67e590",
   "metadata": {},
   "source": [
    "# Qual é a quantidade de pessoas presentes no estado de Minas Gerais e que gostam de chá?"
   ]
  },
  {
   "cell_type": "code",
   "execution_count": 74,
   "id": "b0136daf-dc06-459b-b48a-7d2bd4b988ad",
   "metadata": {},
   "outputs": [
    {
     "data": {
      "text/plain": [
       "cod_pessoa          17\n",
       "data_coleta         17\n",
       "genero              17\n",
       "data_nascimento     17\n",
       "animal_estimacao    17\n",
       "clima               17\n",
       "bebida_favorita     17\n",
       "hobbies             17\n",
       "cod_estado          17\n",
       "idade               17\n",
       "id_estado           17\n",
       "sigla               17\n",
       "estado              17\n",
       "regiao              17\n",
       "pais                17\n",
       "dtype: int64"
      ]
     },
     "execution_count": 74,
     "metadata": {},
     "output_type": "execute_result"
    }
   ],
   "source": [
    "df_resultado.query('estado == \"Minas Gerais\" and bebida_favorita == \"Chá\"').count()"
   ]
  },
  {
   "cell_type": "markdown",
   "id": "f72841d7-9a98-42ce-a557-4510afc5d430",
   "metadata": {},
   "source": [
    "# histograma"
   ]
  },
  {
   "cell_type": "code",
   "execution_count": 75,
   "id": "8e679d2a-4d07-400e-9cae-dc9d112683ee",
   "metadata": {},
   "outputs": [
    {
     "data": {
      "text/plain": [
       "<Axes: title={'center': 'Histograma'}, xlabel='idade', ylabel='Count'>"
      ]
     },
     "execution_count": 75,
     "metadata": {},
     "output_type": "execute_result"
    },
    {
     "data": {
      "image/png": "[encoded data removed]",
      "text/plain": [
       "<Figure size 2000x700 with 1 Axes>"
      ]
     },
     "metadata": {},
     "output_type": "display_data"
    }
   ],
   "source": [
    "plt.figure(figsize=(20,7))\n",
    "plt.title('Histograma', size=15)\n",
    "sns.histplot(data=df_resultado.query('regiao == \"Nordeste\"'), x='idade', bins=15)"
   ]
  },
  {
   "cell_type": "code",
   "execution_count": null,
   "id": "321ae2e8-e346-4dd8-b745-debd16637de3",
   "metadata": {},
   "outputs": [],
   "source": [
    "# hobbies entre as mulheres"
   ]
  },
  {
   "cell_type": "code",
   "execution_count": 86,
   "id": "0356b7ab-d69a-4c36-8a94-65adc93b5ff2",
   "metadata": {},
   "outputs": [
    {
     "data": {
      "text/plain": [
       "hobbies\n",
       "Dormir                104\n",
       "Escutar música        103\n",
       "Escrever               94\n",
       "Praticar esporte       93\n",
       "Pintar quadros         89\n",
       "Aprender algo novo     88\n",
       "Ler livros             80\n",
       "Assistir TV            78\n",
       "Name: count, dtype: int64"
      ]
     },
     "execution_count": 86,
     "metadata": {},
     "output_type": "execute_result"
    }
   ],
   "source": [
    "df_resultado.query('genero == \"Feminino\"')['hobbies'].value_counts()"
   ]
  },
  {
   "cell_type": "markdown",
   "id": "5c4eb7d1-8e0d-4620-bea7-751b61668ed0",
   "metadata": {},
   "source": [
    "# Qual estado possui o maior número de participantes na pesquisa?"
   ]
  },
  {
   "cell_type": "code",
   "execution_count": 85,
   "id": "76cdde4f-55a4-4a7e-8e88-9bb0890dc853",
   "metadata": {},
   "outputs": [
    {
     "data": {
      "text/plain": [
       "estado\n",
       "Mato Grosso do Sul     97\n",
       "Sergipe                97\n",
       "Pará                   97\n",
       "Amapá                  95\n",
       "Rondônia               89\n",
       "Espírito Santo         87\n",
       "São Paulo              86\n",
       "Mato Grosso            84\n",
       "Paraíba                83\n",
       "Maranhão               83\n",
       "Amazonas               81\n",
       "Rio Grande do Sul      80\n",
       "Ceará                  80\n",
       "Distrito Federal       79\n",
       "Piauí                  78\n",
       "Rio de Janeiro         78\n",
       "Alagoas                78\n",
       "Tocantins              75\n",
       "Roraima                73\n",
       "Acre                   72\n",
       "Bahia                  70\n",
       "Pernambuco             69\n",
       "Paraná                 68\n",
       "Minas Gerais           67\n",
       "Santa Catarina         63\n",
       "Goiás                  61\n",
       "Rio Grande do Norte    57\n",
       "Name: count, dtype: int64"
      ]
     },
     "execution_count": 85,
     "metadata": {},
     "output_type": "execute_result"
    }
   ],
   "source": [
    "df_resultado['estado'].value_counts()"
   ]
  },
  {
   "cell_type": "markdown",
   "id": "a83bedc9-f235-4f0c-be5b-841d8ef495f7",
   "metadata": {},
   "source": [
    "# qual a bebida favorita na região Sul"
   ]
  },
  {
   "cell_type": "code",
   "execution_count": 89,
   "id": "761bce31-9661-4d2e-a40a-135957601aa2",
   "metadata": {},
   "outputs": [
    {
     "data": {
      "text/plain": [
       "bebida_favorita\n",
       "Chá             44\n",
       "Cerveja         37\n",
       "Café            37\n",
       "refrigerante    33\n",
       "Água            32\n",
       "Vinho           28\n",
       "Name: count, dtype: int64"
      ]
     },
     "execution_count": 89,
     "metadata": {},
     "output_type": "execute_result"
    }
   ],
   "source": [
    "df_resultado.query('regiao == \"Sul\"')['bebida_favorita'].value_counts()"
   ]
  },
  {
   "cell_type": "markdown",
   "id": "5d87a8ad-74e2-4835-bf40-ef164a8c6d55",
   "metadata": {},
   "source": [
    "# Quantas pessoas têm preferência para o clima frio?\n"
   ]
  },
  {
   "cell_type": "code",
   "execution_count": 87,
   "id": "d572106f-9cea-4701-ba8b-89a580e41e35",
   "metadata": {},
   "outputs": [
    {
     "data": {
      "text/plain": [
       "cod_pessoa          728\n",
       "data_coleta         728\n",
       "genero              728\n",
       "data_nascimento     728\n",
       "animal_estimacao    728\n",
       "clima               728\n",
       "bebida_favorita     728\n",
       "hobbies             728\n",
       "cod_estado          728\n",
       "idade               728\n",
       "id_estado           728\n",
       "sigla               728\n",
       "estado              728\n",
       "regiao              728\n",
       "pais                728\n",
       "dtype: int64"
      ]
     },
     "execution_count": 87,
     "metadata": {},
     "output_type": "execute_result"
    }
   ],
   "source": [
    "df_resultado.query('clima == \"frio\" ').count()"
   ]
  }
 ],
 "metadata": {
  "kernelspec": {
   "display_name": "MODML",
   "language": "python",
   "name": "modml"
  },
  "language_info": {
   "codemirror_mode": {
    "name": "ipython",
    "version": 3
   },
   "file_extension": ".py",
   "mimetype": "text/x-python",
   "name": "python",
   "nbconvert_exporter": "python",
   "pygments_lexer": "ipython3",
   "version": "3.11.3"
  }
 },
 "nbformat": 4,
 "nbformat_minor": 5
}
